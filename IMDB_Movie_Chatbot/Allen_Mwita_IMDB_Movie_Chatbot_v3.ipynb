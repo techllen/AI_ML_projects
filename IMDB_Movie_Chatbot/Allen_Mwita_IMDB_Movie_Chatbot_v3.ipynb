{
  "cells": [
    {
      "cell_type": "markdown",
      "metadata": {
        "id": "view-in-github",
        "colab_type": "text"
      },
      "source": [
        "<a href=\"https://colab.research.google.com/github/techllen/AI_ML_projects/blob/main/IMDB_Movie_Chatbot/Allen_Mwita_IMDB_Movie_Chatbot_v3.ipynb\" target=\"_parent\"><img src=\"https://colab.research.google.com/assets/colab-badge.svg\" alt=\"Open In Colab\"/></a>"
      ]
    },
    {
      "cell_type": "markdown",
      "source": [
        "<font color='56c3ea'><h1><b>Name : Allen Matare Mwita<b></h1></font>\n",
        "\n",
        "<font color='56c3ea'><h1><b>Uplevel email address : allenmwita21@gmail.com<b></h1></font>\n",
        "\n",
        "<font color='56c3ea'><h1><b>Problem Statement Name : IMDB_Movie_Chatbot<b></h1></font>"
      ],
      "metadata": {
        "id": "YpLw5yVbGt-M"
      }
    },
    {
      "cell_type": "markdown",
      "source": [
        "<font color='56c3ea'><h1><b>IMBD Movie Chatbot<b></h1></font>"
      ],
      "metadata": {
        "id": "AspQLn7gIANj"
      }
    },
    {
      "cell_type": "markdown",
      "source": [
        "<font color='56c3ea'><h1><b>1 Business Background and Problem Statement<b></h1></font>"
      ],
      "metadata": {
        "id": "hs6-lJUCITry"
      }
    },
    {
      "cell_type": "markdown",
      "source": [
        "<font color='56c3ea'><h1><b>1.1 Business Background<b></h1></font>\n",
        "\n"
      ],
      "metadata": {
        "id": "fJUQr9hAIlI2"
      }
    },
    {
      "cell_type": "markdown",
      "source": [
        "The entertainment industry has seen a surge in demand for intelligent recommendation systems and conversational AI tools. Movie enthusiasts often search for recommendations, plot summaries, actor details, and genre-specific films. However, navigating vast databases like IMDb manually can be time-consuming and overwhelming.\n",
        "\n",
        "IMDb stands for Internet Movie Database an online database of information related to films, television series, podcasts, home videos, video games, and streaming content online including cast, production crew and personal biographies, plot summaries, trivia, ratings, and fan and critical reviews.\n",
        "\n",
        "For more information https://en.wikipedia.org/wiki/IMDb"
      ],
      "metadata": {
        "id": "73Mn--gDNBe1"
      }
    },
    {
      "cell_type": "markdown",
      "source": [
        "<font color='56c3ea'><h1><b>1.2 Problem Statement<b></h1></font>"
      ],
      "metadata": {
        "id": "tM1nmOlWIlb2"
      }
    },
    {
      "cell_type": "markdown",
      "source": [
        "Current searching involves\n",
        "\n",
        "- Manual Search: Users rely on IMDb, Rotten Tomatoes, and Wikipedia, which require keyword-based searches.\n",
        "- Generic Recommendations: Streaming services suggest movies but lack interactive engagement.\n",
        "- Limited Personalization: Existing platforms provide static recommendations without contextual understanding.\n",
        "\n",
        "\n",
        "<font color='Green'><h1><b>Problem statement Understanding<b></h1></font>\n",
        "- Overall besiness needs to move away from traditional manual apporaches and embrace modern approaches to enhance user experience by providing them with enriched results as well as enhancing their follow up questions"
      ],
      "metadata": {
        "id": "yVD4T6EyNE37"
      }
    },
    {
      "cell_type": "markdown",
      "source": [
        "<font color='56c3ea'><h1><b>1.3 Objectives<b></h1></font>"
      ],
      "metadata": {
        "id": "FIPuxkJ2IloX"
      }
    },
    {
      "cell_type": "markdown",
      "source": [
        "With the main objective to reduce manual searches and provide contextual responses , the following are key objectives\n",
        "\n",
        "- Interactive Movie Search: Allow users to search for movies based on genre, actors, plot summaries, or reviews through natural conversation.\n",
        "- Personalized Movie Recommendations: Suggest movies based on user preferences and previous interactions.\n",
        "- Enhanced User Experience: Provide instant responses with insights such as ratings, reviews, and movie details."
      ],
      "metadata": {
        "id": "u_LgzB8ENJAK"
      }
    },
    {
      "cell_type": "markdown",
      "source": [
        "<font color='56c3ea'><h1><b>1.4 Tchnical Approach to the porblem statement<b></h1></font>"
      ],
      "metadata": {
        "id": "HlhTwjiIIlu7"
      }
    },
    {
      "cell_type": "markdown",
      "source": [
        "Due to above challenges a AI-Powered Assistant/Movie Chatbot can be built to bridge this gap by leveraging Natural Language Processing (NLP) and Large Language Models (LLMs) to provide an interactive, conversational way to explore movie data.\n",
        "\n",
        "The goal is to build a chatbot that understands natural language queries and retrieves relevant movie information from an IMDb dataset. The chatbot should:\n",
        "\n",
        "- Process user inputs conversationally.\n",
        "- Retrieve and display relevant movie details.\n",
        "- Handle follow-up questions and refine responses dynamically."
      ],
      "metadata": {
        "id": "cmYKkxyXNROz"
      }
    },
    {
      "cell_type": "markdown",
      "source": [
        "<font color='56c3ea'><h1><b>2 Dataset Overview<b></h1></font>"
      ],
      "metadata": {
        "id": "iaoCex7aImJ6"
      }
    },
    {
      "cell_type": "markdown",
      "source": [
        "<font color='56c3ea'><h1><b>2.1 Data Understanding<b></h1></font>"
      ],
      "metadata": {
        "id": "ljHXBnLKIm4i"
      }
    },
    {
      "cell_type": "markdown",
      "source": [
        "IMBD database provided has a lot of data. The dataset provided for this problem has 10 different features/column and they present different things as in below table\n",
        "\n",
        "\n",
        "| Column Name        | Description                                                                                     |\n",
        "|--------------------|------------------------------------------------------------------------------------------------|\n",
        "| Title             | The name of the movie. *(String)*                                                               |\n",
        "| IMDb Rating       | The average audience rating. *(Float)*                                                          |\n",
        "| Year             | The release year of the movie. *(Integer)*                                                       |\n",
        "| Certificates      | The movie's age rating (e.g., PG, PG-13, R). *(String)*                                         |\n",
        "| Genre            | The primary category of the movie (e.g., Adventure, Biography, Documentary). *(String)*          |\n",
        "| Director         | The name of the movie's director. *(String)*                                                     |\n",
        "| Star Cast        | Key actors featured in the movie. *(String)*                                                     |\n",
        "| MetaScore        | The movie's Metacritic score-summarized professional opinion on the quality of a movie,usually contrasted with audience rating. *(Float)*                                                          |\n",
        "| Poster-src       | The URL for the movie's poster image. *(String)*                                                 |\n",
        "| Duration        | The total runtime of the movie in minutes. *(Float)*                                              |\n"
      ],
      "metadata": {
        "id": "EYfnDKDQPaYM"
      }
    },
    {
      "cell_type": "markdown",
      "source": [
        "<font color='56c3ea'><h1><b>2.2  Necessary Imports and dataset observation<b></h1></font>"
      ],
      "metadata": {
        "id": "opPhRRZUPDc6"
      }
    },
    {
      "cell_type": "code",
      "source": [
        "# INSTALLING REQUIRED LIBRARIES\n",
        "\n",
        "# Installing the LangChain Hub package to access and manage pre-built AI chains, prompts, and agents.\n",
        "!pip install langchainhub --quiet\n",
        "\n",
        "# Installing the LangChain OpenAI integration to use OpenAI models within LangChain workflows.\n",
        "!pip install langchain-openai --quiet\n",
        "\n",
        "# Installing the core LangChain library for building LLM-based applications, including chaining, memory, and retrieval capabilities.\n",
        "!pip install langchain --quiet\n",
        "\n",
        "# Installing the community version of LangChain, which includes integrations and tools contributed by the community.\n",
        "!pip install langchain-community --quiet\n",
        "\n",
        "# Installing FAISS (Facebook AI Similarity Search) for efficient similarity-based search on text embeddings.\n",
        "!pip install faiss-cpu --quiet\n",
        "\n",
        "# Installing Gradio, a framework to create web-based UIs for AI models and applications easily.\n",
        "!pip install gradio --quiet\n",
        "\n",
        "# Installing langsmith for evaluation and performance\n",
        "!pip install -U langsmith openai --quiet\n",
        "\n",
        "# Installing beautifulsoup4 for accessing internet\n",
        "!pip install requests beautifulsoup4 --quiet\n",
        "\n",
        "# Intalling langgraph for AI agent workflow\n",
        "!pip install langgraph langchain openai --quiet"
      ],
      "metadata": {
        "id": "1XNVBlANRebt",
        "collapsed": true,
        "outputId": "c092d7c2-32fd-4020-803d-fbdc8b777852",
        "colab": {
          "base_uri": "https://localhost:8080/"
        }
      },
      "execution_count": 1,
      "outputs": [
        {
          "output_type": "stream",
          "name": "stdout",
          "text": [
            "\u001b[2K   \u001b[90m━━━━━━━━━━━━━━━━━━━━━━━━━━━━━━━━━━━━━━━━\u001b[0m \u001b[32m62.8/62.8 kB\u001b[0m \u001b[31m2.4 MB/s\u001b[0m eta \u001b[36m0:00:00\u001b[0m\n",
            "\u001b[2K   \u001b[90m━━━━━━━━━━━━━━━━━━━━━━━━━━━━━━━━━━━━━━━━\u001b[0m \u001b[32m2.5/2.5 MB\u001b[0m \u001b[31m44.1 MB/s\u001b[0m eta \u001b[36m0:00:00\u001b[0m\n",
            "\u001b[2K   \u001b[90m━━━━━━━━━━━━━━━━━━━━━━━━━━━━━━━━━━━━━━━━\u001b[0m \u001b[32m44.4/44.4 kB\u001b[0m \u001b[31m2.4 MB/s\u001b[0m eta \u001b[36m0:00:00\u001b[0m\n",
            "\u001b[2K   \u001b[90m━━━━━━━━━━━━━━━━━━━━━━━━━━━━━━━━━━━━━━━━\u001b[0m \u001b[32m50.9/50.9 kB\u001b[0m \u001b[31m2.4 MB/s\u001b[0m eta \u001b[36m0:00:00\u001b[0m\n",
            "\u001b[2K   \u001b[90m━━━━━━━━━━━━━━━━━━━━━━━━━━━━━━━━━━━━━━━━\u001b[0m \u001b[32m31.3/31.3 MB\u001b[0m \u001b[31m56.5 MB/s\u001b[0m eta \u001b[36m0:00:00\u001b[0m\n",
            "\u001b[2K   \u001b[90m━━━━━━━━━━━━━━━━━━━━━━━━━━━━━━━━━━━━━━━━\u001b[0m \u001b[32m54.1/54.1 MB\u001b[0m \u001b[31m49.1 MB/s\u001b[0m eta \u001b[36m0:00:00\u001b[0m\n",
            "\u001b[2K   \u001b[90m━━━━━━━━━━━━━━━━━━━━━━━━━━━━━━━━━━━━━━━━\u001b[0m \u001b[32m322.9/322.9 kB\u001b[0m \u001b[31m23.5 MB/s\u001b[0m eta \u001b[36m0:00:00\u001b[0m\n",
            "\u001b[2K   \u001b[90m━━━━━━━━━━━━━━━━━━━━━━━━━━━━━━━━━━━━━━━━\u001b[0m \u001b[32m95.2/95.2 kB\u001b[0m \u001b[31m6.6 MB/s\u001b[0m eta \u001b[36m0:00:00\u001b[0m\n",
            "\u001b[2K   \u001b[90m━━━━━━━━━━━━━━━━━━━━━━━━━━━━━━━━━━━━━━━━\u001b[0m \u001b[32m11.5/11.5 MB\u001b[0m \u001b[31m131.6 MB/s\u001b[0m eta \u001b[36m0:00:00\u001b[0m\n",
            "\u001b[2K   \u001b[90m━━━━━━━━━━━━━━━━━━━━━━━━━━━━━━━━━━━━━━━━\u001b[0m \u001b[32m72.0/72.0 kB\u001b[0m \u001b[31m4.7 MB/s\u001b[0m eta \u001b[36m0:00:00\u001b[0m\n",
            "\u001b[2K   \u001b[90m━━━━━━━━━━━━━━━━━━━━━━━━━━━━━━━━━━━━━━━━\u001b[0m \u001b[32m62.5/62.5 kB\u001b[0m \u001b[31m3.4 MB/s\u001b[0m eta \u001b[36m0:00:00\u001b[0m\n",
            "\u001b[2K   \u001b[90m━━━━━━━━━━━━━━━━━━━━━━━━━━━━━━━━━━━━━━━━\u001b[0m \u001b[32m680.9/680.9 kB\u001b[0m \u001b[31m21.6 MB/s\u001b[0m eta \u001b[36m0:00:00\u001b[0m\n",
            "\u001b[2K     \u001b[90m━━━━━━━━━━━━━━━━━━━━━━━━━━━━━━━━━━━━━━━━\u001b[0m \u001b[32m43.5/43.5 kB\u001b[0m \u001b[31m2.8 MB/s\u001b[0m eta \u001b[36m0:00:00\u001b[0m\n",
            "\u001b[2K   \u001b[90m━━━━━━━━━━━━━━━━━━━━━━━━━━━━━━━━━━━━━━━━\u001b[0m \u001b[32m151.2/151.2 kB\u001b[0m \u001b[31m9.4 MB/s\u001b[0m eta \u001b[36m0:00:00\u001b[0m\n",
            "\u001b[2K   \u001b[90m━━━━━━━━━━━━━━━━━━━━━━━━━━━━━━━━━━━━━━━━\u001b[0m \u001b[32m42.3/42.3 kB\u001b[0m \u001b[31m3.2 MB/s\u001b[0m eta \u001b[36m0:00:00\u001b[0m\n",
            "\u001b[2K   \u001b[90m━━━━━━━━━━━━━━━━━━━━━━━━━━━━━━━━━━━━━━━━\u001b[0m \u001b[32m48.9/48.9 kB\u001b[0m \u001b[31m3.4 MB/s\u001b[0m eta \u001b[36m0:00:00\u001b[0m\n",
            "\u001b[2K   \u001b[90m━━━━━━━━━━━━━━━━━━━━━━━━━━━━━━━━━━━━━━━━\u001b[0m \u001b[32m223.6/223.6 kB\u001b[0m \u001b[31m13.6 MB/s\u001b[0m eta \u001b[36m0:00:00\u001b[0m\n",
            "\u001b[?25h"
          ]
        }
      ]
    },
    {
      "cell_type": "code",
      "execution_count": 2,
      "metadata": {
        "id": "xRit5A9KCx20"
      },
      "outputs": [],
      "source": [
        "# Importing the OpenAI library to interact with OpenAI's API services.\n",
        "from openai import OpenAI\n",
        "\n",
        "# Importing the KaggleHub library to interact with datasets and models available on Kaggle.\n",
        "import kagglehub\n",
        "\n",
        "# Importing the CSV module for reading and writing CSV files.\n",
        "import csv\n",
        "\n",
        "# Importing pandas for data manipulation and analysis.\n",
        "import pandas as pd\n",
        "\n",
        "# Importing numpy for numerical operations and handling arrays efficiently.\n",
        "import numpy as np\n",
        "\n",
        "# Importing os to interact with the operating system, such as environment variables and file paths.\n",
        "import os\n",
        "\n",
        "# Importing getpass to securely handle user input (e.g., API keys or passwords).\n",
        "import getpass\n",
        "\n",
        "# Importing libraries for plotting\n",
        "import matplotlib.pyplot as plt\n",
        "import seaborn as sns\n",
        "import plotly.express as px\n",
        "\n",
        "# Importing TfidfVectorizer to identify the most important keywords in your text data for keyword trends\n",
        "from sklearn.feature_extraction.text import TfidfVectorizer\n",
        "\n",
        "# Importing RecursiveCharacterTextSplitter from LangChain for chunking large text into smaller, manageable pieces.\n",
        "# This helps in optimizing text for processing and retrieval.\n",
        "from langchain_text_splitters import RecursiveCharacterTextSplitter\n",
        "\n",
        "# Importing OpenAIEmbeddings from LangChain to generate numerical vector representations (embeddings) of text.\n",
        "# These embeddings capture the semantic meaning of the text for efficient similarity searches.\n",
        "from langchain_openai import OpenAIEmbeddings\n",
        "\n",
        "# Importing FAISS (Facebook AI Similarity Search) from LangChain's community package.\n",
        "# FAISS is used for storing and retrieving embeddings efficiently by finding similar vectors.\n",
        "from langchain_community.vectorstores import FAISS\n",
        "\n",
        "# Importing ChatOpenAI from LangChain to interact with OpenAI's language models, such as GPT, for generating responses.\n",
        "from langchain_openai import ChatOpenAI\n",
        "\n",
        "# Importing ChatPromptTemplate to create structured prompts for the chatbot, ensuring consistent interactions with the AI model.\n",
        "from langchain_core.prompts import ChatPromptTemplate\n",
        "\n",
        "# Importing ChatPromptTemplate again (duplicate import, should be removed to avoid redundancy).\n",
        "from langchain_core.prompts import ChatPromptTemplate\n",
        "\n",
        "# Importing create_stuff_documents_chain to combine and process retrieved documents for meaningful AI-generated responses.\n",
        "from langchain.chains.combine_documents import create_stuff_documents_chain\n",
        "\n",
        "# Importing create_retrieval_chain to build a chain that retrieves relevant documents from a vector store and generates AI responses.\n",
        "from langchain.chains import create_retrieval_chain\n",
        "\n",
        "# Importing StrOutputParser from LangChain to parse the output\n",
        "from langchain_core.output_parsers import StrOutputParser\n",
        "\n",
        "# Importing the Gradio library to create a simple web-based user interface\n",
        "import gradio as gr\n",
        "\n",
        "# Importing client from langsmith for uploading datasets to langsmith\n",
        "from langsmith import Client\n",
        "\n",
        "# Import the 'render_text_description' function from LangChain's 'tools.render' module\n",
        "# to generate a textual description of the given tools for the LLM\n",
        "from langchain.tools.render import render_text_description\n",
        "\n",
        "# Import itemgetter from the operator module\n",
        "# whisch allows extracting specific keys from a dictionary (used here for extracting \"arguments\")\n",
        "from operator import itemgetter\n",
        "\n",
        "# Import the 'tool' decorator from LangChain Core\n",
        "# This decorator allows defining functions as LangChain tools that can be invoked programmatically\n",
        "from langchain_core.tools import tool\n",
        "\n",
        "# Import RunnablePassthrough from LangChain Core\n",
        "# This is used to pass data through a pipeline without modification,\n",
        "# while also allowing additional processing or assignments.\n",
        "from langchain_core.runnables import RunnablePassthrough\n",
        "\n",
        "# Import beautiful soap for retrieving internet results\n",
        "import requests\n",
        "from bs4 import BeautifulSoup\n",
        "\n",
        "# Import json for parsing json content\n",
        "import json\n",
        "\n",
        "# Importing JsonOutputParser for porcessing json contents\n",
        "from langchain_core.output_parsers import JsonOutputParser"
      ]
    },
    {
      "cell_type": "markdown",
      "source": [
        "<font color='56c3ea'><h1><b>2.2.1 Loading the data<b></h1></font>"
      ],
      "metadata": {
        "id": "AekMI2hHSXXd"
      }
    },
    {
      "cell_type": "code",
      "source": [
        "# Mounting the google drive\n",
        "from google.colab import drive\n",
        "drive.mount('/content/drive')"
      ],
      "metadata": {
        "id": "tFNElvBcFSMU",
        "outputId": "c1a6ad53-d04a-49ab-9d10-50c86c6288b6",
        "colab": {
          "base_uri": "https://localhost:8080/"
        }
      },
      "execution_count": 3,
      "outputs": [
        {
          "output_type": "stream",
          "name": "stdout",
          "text": [
            "Mounted at /content/drive\n"
          ]
        }
      ]
    },
    {
      "cell_type": "code",
      "execution_count": 4,
      "metadata": {
        "id": "0XiPvpp1FxKb"
      },
      "outputs": [],
      "source": [
        "# Load the data\n",
        "IMDB_Movies_df = pd.read_csv(\"/content/drive/MyDrive/AI_ML/datasets/IMDB_Movie_Chatbot_Dataset/IMDb_Dataset.csv\")"
      ]
    },
    {
      "cell_type": "code",
      "source": [
        "# Viewing tha data\n",
        "IMDB_Movies_df.head()"
      ],
      "metadata": {
        "id": "yQwukb7FHI6q",
        "outputId": "9a2b67ec-bac5-463e-da94-433b9152ba4f",
        "colab": {
          "base_uri": "https://localhost:8080/",
          "height": 414
        }
      },
      "execution_count": 5,
      "outputs": [
        {
          "output_type": "execute_result",
          "data": {
            "text/plain": [
              "                          Title  IMDb Rating  Year Certificates        Genre  \\\n",
              "0              End of the Spear          6.8  2005        PG-13    Adventure   \n",
              "1                Elvira Madigan          7.0  1967           PG    Biography   \n",
              "2  The Kid Stays in the Picture          7.3  2002            R  Documentary   \n",
              "3                 It Ain't Over          8.2  2022           PG  Documentary   \n",
              "4                        Mahler          7.0  1974           PG    Biography   \n",
              "\n",
              "           Director                                   Star Cast  MetaScore  \\\n",
              "0         Jim Hanon         Louie LeonardoChad AllenJack Guzman       45.0   \n",
              "1      Bo Widerberg  Pia DegermarkThommy BerggrenLennart Malmer       66.0   \n",
              "2  Nanette Burstein          Robert EvansEddie AlbertPeter Bart       75.0   \n",
              "3       Sean Mullin          Andy AndresRoger AngellMarty Appel       79.0   \n",
              "4       Ken Russell      Robert PowellGeorgina HaleLee Montague       66.0   \n",
              "\n",
              "                                          Poster-src  Duration (minutes)  \n",
              "0  https://m.media-amazon.com/images/M/MV5BMTYxOT...               108.0  \n",
              "1  https://m.media-amazon.com/images/M/MV5BMmY2Nj...                91.0  \n",
              "2  https://m.media-amazon.com/images/M/MV5BZjhiZm...                93.0  \n",
              "3  https://m.media-amazon.com/images/M/MV5BZWViYW...                99.0  \n",
              "4  https://m.media-amazon.com/images/M/MV5BYzY4Mz...               115.0  "
            ],
            "text/html": [
              "\n",
              "  <div id=\"df-514c86dc-3fd9-44a8-a2fe-bc5dbc4a2f7e\" class=\"colab-df-container\">\n",
              "    <div>\n",
              "<style scoped>\n",
              "    .dataframe tbody tr th:only-of-type {\n",
              "        vertical-align: middle;\n",
              "    }\n",
              "\n",
              "    .dataframe tbody tr th {\n",
              "        vertical-align: top;\n",
              "    }\n",
              "\n",
              "    .dataframe thead th {\n",
              "        text-align: right;\n",
              "    }\n",
              "</style>\n",
              "<table border=\"1\" class=\"dataframe\">\n",
              "  <thead>\n",
              "    <tr style=\"text-align: right;\">\n",
              "      <th></th>\n",
              "      <th>Title</th>\n",
              "      <th>IMDb Rating</th>\n",
              "      <th>Year</th>\n",
              "      <th>Certificates</th>\n",
              "      <th>Genre</th>\n",
              "      <th>Director</th>\n",
              "      <th>Star Cast</th>\n",
              "      <th>MetaScore</th>\n",
              "      <th>Poster-src</th>\n",
              "      <th>Duration (minutes)</th>\n",
              "    </tr>\n",
              "  </thead>\n",
              "  <tbody>\n",
              "    <tr>\n",
              "      <th>0</th>\n",
              "      <td>End of the Spear</td>\n",
              "      <td>6.8</td>\n",
              "      <td>2005</td>\n",
              "      <td>PG-13</td>\n",
              "      <td>Adventure</td>\n",
              "      <td>Jim Hanon</td>\n",
              "      <td>Louie LeonardoChad AllenJack Guzman</td>\n",
              "      <td>45.0</td>\n",
              "      <td>https://m.media-amazon.com/images/M/MV5BMTYxOT...</td>\n",
              "      <td>108.0</td>\n",
              "    </tr>\n",
              "    <tr>\n",
              "      <th>1</th>\n",
              "      <td>Elvira Madigan</td>\n",
              "      <td>7.0</td>\n",
              "      <td>1967</td>\n",
              "      <td>PG</td>\n",
              "      <td>Biography</td>\n",
              "      <td>Bo Widerberg</td>\n",
              "      <td>Pia DegermarkThommy BerggrenLennart Malmer</td>\n",
              "      <td>66.0</td>\n",
              "      <td>https://m.media-amazon.com/images/M/MV5BMmY2Nj...</td>\n",
              "      <td>91.0</td>\n",
              "    </tr>\n",
              "    <tr>\n",
              "      <th>2</th>\n",
              "      <td>The Kid Stays in the Picture</td>\n",
              "      <td>7.3</td>\n",
              "      <td>2002</td>\n",
              "      <td>R</td>\n",
              "      <td>Documentary</td>\n",
              "      <td>Nanette Burstein</td>\n",
              "      <td>Robert EvansEddie AlbertPeter Bart</td>\n",
              "      <td>75.0</td>\n",
              "      <td>https://m.media-amazon.com/images/M/MV5BZjhiZm...</td>\n",
              "      <td>93.0</td>\n",
              "    </tr>\n",
              "    <tr>\n",
              "      <th>3</th>\n",
              "      <td>It Ain't Over</td>\n",
              "      <td>8.2</td>\n",
              "      <td>2022</td>\n",
              "      <td>PG</td>\n",
              "      <td>Documentary</td>\n",
              "      <td>Sean Mullin</td>\n",
              "      <td>Andy AndresRoger AngellMarty Appel</td>\n",
              "      <td>79.0</td>\n",
              "      <td>https://m.media-amazon.com/images/M/MV5BZWViYW...</td>\n",
              "      <td>99.0</td>\n",
              "    </tr>\n",
              "    <tr>\n",
              "      <th>4</th>\n",
              "      <td>Mahler</td>\n",
              "      <td>7.0</td>\n",
              "      <td>1974</td>\n",
              "      <td>PG</td>\n",
              "      <td>Biography</td>\n",
              "      <td>Ken Russell</td>\n",
              "      <td>Robert PowellGeorgina HaleLee Montague</td>\n",
              "      <td>66.0</td>\n",
              "      <td>https://m.media-amazon.com/images/M/MV5BYzY4Mz...</td>\n",
              "      <td>115.0</td>\n",
              "    </tr>\n",
              "  </tbody>\n",
              "</table>\n",
              "</div>\n",
              "    <div class=\"colab-df-buttons\">\n",
              "\n",
              "  <div class=\"colab-df-container\">\n",
              "    <button class=\"colab-df-convert\" onclick=\"convertToInteractive('df-514c86dc-3fd9-44a8-a2fe-bc5dbc4a2f7e')\"\n",
              "            title=\"Convert this dataframe to an interactive table.\"\n",
              "            style=\"display:none;\">\n",
              "\n",
              "  <svg xmlns=\"http://www.w3.org/2000/svg\" height=\"24px\" viewBox=\"0 -960 960 960\">\n",
              "    <path d=\"M120-120v-720h720v720H120Zm60-500h600v-160H180v160Zm220 220h160v-160H400v160Zm0 220h160v-160H400v160ZM180-400h160v-160H180v160Zm440 0h160v-160H620v160ZM180-180h160v-160H180v160Zm440 0h160v-160H620v160Z\"/>\n",
              "  </svg>\n",
              "    </button>\n",
              "\n",
              "  <style>\n",
              "    .colab-df-container {\n",
              "      display:flex;\n",
              "      gap: 12px;\n",
              "    }\n",
              "\n",
              "    .colab-df-convert {\n",
              "      background-color: #E8F0FE;\n",
              "      border: none;\n",
              "      border-radius: 50%;\n",
              "      cursor: pointer;\n",
              "      display: none;\n",
              "      fill: #1967D2;\n",
              "      height: 32px;\n",
              "      padding: 0 0 0 0;\n",
              "      width: 32px;\n",
              "    }\n",
              "\n",
              "    .colab-df-convert:hover {\n",
              "      background-color: #E2EBFA;\n",
              "      box-shadow: 0px 1px 2px rgba(60, 64, 67, 0.3), 0px 1px 3px 1px rgba(60, 64, 67, 0.15);\n",
              "      fill: #174EA6;\n",
              "    }\n",
              "\n",
              "    .colab-df-buttons div {\n",
              "      margin-bottom: 4px;\n",
              "    }\n",
              "\n",
              "    [theme=dark] .colab-df-convert {\n",
              "      background-color: #3B4455;\n",
              "      fill: #D2E3FC;\n",
              "    }\n",
              "\n",
              "    [theme=dark] .colab-df-convert:hover {\n",
              "      background-color: #434B5C;\n",
              "      box-shadow: 0px 1px 3px 1px rgba(0, 0, 0, 0.15);\n",
              "      filter: drop-shadow(0px 1px 2px rgba(0, 0, 0, 0.3));\n",
              "      fill: #FFFFFF;\n",
              "    }\n",
              "  </style>\n",
              "\n",
              "    <script>\n",
              "      const buttonEl =\n",
              "        document.querySelector('#df-514c86dc-3fd9-44a8-a2fe-bc5dbc4a2f7e button.colab-df-convert');\n",
              "      buttonEl.style.display =\n",
              "        google.colab.kernel.accessAllowed ? 'block' : 'none';\n",
              "\n",
              "      async function convertToInteractive(key) {\n",
              "        const element = document.querySelector('#df-514c86dc-3fd9-44a8-a2fe-bc5dbc4a2f7e');\n",
              "        const dataTable =\n",
              "          await google.colab.kernel.invokeFunction('convertToInteractive',\n",
              "                                                    [key], {});\n",
              "        if (!dataTable) return;\n",
              "\n",
              "        const docLinkHtml = 'Like what you see? Visit the ' +\n",
              "          '<a target=\"_blank\" href=https://colab.research.google.com/notebooks/data_table.ipynb>data table notebook</a>'\n",
              "          + ' to learn more about interactive tables.';\n",
              "        element.innerHTML = '';\n",
              "        dataTable['output_type'] = 'display_data';\n",
              "        await google.colab.output.renderOutput(dataTable, element);\n",
              "        const docLink = document.createElement('div');\n",
              "        docLink.innerHTML = docLinkHtml;\n",
              "        element.appendChild(docLink);\n",
              "      }\n",
              "    </script>\n",
              "  </div>\n",
              "\n",
              "\n",
              "    <div id=\"df-ff36cb2d-8d0c-412e-80cb-993066de4562\">\n",
              "      <button class=\"colab-df-quickchart\" onclick=\"quickchart('df-ff36cb2d-8d0c-412e-80cb-993066de4562')\"\n",
              "                title=\"Suggest charts\"\n",
              "                style=\"display:none;\">\n",
              "\n",
              "<svg xmlns=\"http://www.w3.org/2000/svg\" height=\"24px\"viewBox=\"0 0 24 24\"\n",
              "     width=\"24px\">\n",
              "    <g>\n",
              "        <path d=\"M19 3H5c-1.1 0-2 .9-2 2v14c0 1.1.9 2 2 2h14c1.1 0 2-.9 2-2V5c0-1.1-.9-2-2-2zM9 17H7v-7h2v7zm4 0h-2V7h2v10zm4 0h-2v-4h2v4z\"/>\n",
              "    </g>\n",
              "</svg>\n",
              "      </button>\n",
              "\n",
              "<style>\n",
              "  .colab-df-quickchart {\n",
              "      --bg-color: #E8F0FE;\n",
              "      --fill-color: #1967D2;\n",
              "      --hover-bg-color: #E2EBFA;\n",
              "      --hover-fill-color: #174EA6;\n",
              "      --disabled-fill-color: #AAA;\n",
              "      --disabled-bg-color: #DDD;\n",
              "  }\n",
              "\n",
              "  [theme=dark] .colab-df-quickchart {\n",
              "      --bg-color: #3B4455;\n",
              "      --fill-color: #D2E3FC;\n",
              "      --hover-bg-color: #434B5C;\n",
              "      --hover-fill-color: #FFFFFF;\n",
              "      --disabled-bg-color: #3B4455;\n",
              "      --disabled-fill-color: #666;\n",
              "  }\n",
              "\n",
              "  .colab-df-quickchart {\n",
              "    background-color: var(--bg-color);\n",
              "    border: none;\n",
              "    border-radius: 50%;\n",
              "    cursor: pointer;\n",
              "    display: none;\n",
              "    fill: var(--fill-color);\n",
              "    height: 32px;\n",
              "    padding: 0;\n",
              "    width: 32px;\n",
              "  }\n",
              "\n",
              "  .colab-df-quickchart:hover {\n",
              "    background-color: var(--hover-bg-color);\n",
              "    box-shadow: 0 1px 2px rgba(60, 64, 67, 0.3), 0 1px 3px 1px rgba(60, 64, 67, 0.15);\n",
              "    fill: var(--button-hover-fill-color);\n",
              "  }\n",
              "\n",
              "  .colab-df-quickchart-complete:disabled,\n",
              "  .colab-df-quickchart-complete:disabled:hover {\n",
              "    background-color: var(--disabled-bg-color);\n",
              "    fill: var(--disabled-fill-color);\n",
              "    box-shadow: none;\n",
              "  }\n",
              "\n",
              "  .colab-df-spinner {\n",
              "    border: 2px solid var(--fill-color);\n",
              "    border-color: transparent;\n",
              "    border-bottom-color: var(--fill-color);\n",
              "    animation:\n",
              "      spin 1s steps(1) infinite;\n",
              "  }\n",
              "\n",
              "  @keyframes spin {\n",
              "    0% {\n",
              "      border-color: transparent;\n",
              "      border-bottom-color: var(--fill-color);\n",
              "      border-left-color: var(--fill-color);\n",
              "    }\n",
              "    20% {\n",
              "      border-color: transparent;\n",
              "      border-left-color: var(--fill-color);\n",
              "      border-top-color: var(--fill-color);\n",
              "    }\n",
              "    30% {\n",
              "      border-color: transparent;\n",
              "      border-left-color: var(--fill-color);\n",
              "      border-top-color: var(--fill-color);\n",
              "      border-right-color: var(--fill-color);\n",
              "    }\n",
              "    40% {\n",
              "      border-color: transparent;\n",
              "      border-right-color: var(--fill-color);\n",
              "      border-top-color: var(--fill-color);\n",
              "    }\n",
              "    60% {\n",
              "      border-color: transparent;\n",
              "      border-right-color: var(--fill-color);\n",
              "    }\n",
              "    80% {\n",
              "      border-color: transparent;\n",
              "      border-right-color: var(--fill-color);\n",
              "      border-bottom-color: var(--fill-color);\n",
              "    }\n",
              "    90% {\n",
              "      border-color: transparent;\n",
              "      border-bottom-color: var(--fill-color);\n",
              "    }\n",
              "  }\n",
              "</style>\n",
              "\n",
              "      <script>\n",
              "        async function quickchart(key) {\n",
              "          const quickchartButtonEl =\n",
              "            document.querySelector('#' + key + ' button');\n",
              "          quickchartButtonEl.disabled = true;  // To prevent multiple clicks.\n",
              "          quickchartButtonEl.classList.add('colab-df-spinner');\n",
              "          try {\n",
              "            const charts = await google.colab.kernel.invokeFunction(\n",
              "                'suggestCharts', [key], {});\n",
              "          } catch (error) {\n",
              "            console.error('Error during call to suggestCharts:', error);\n",
              "          }\n",
              "          quickchartButtonEl.classList.remove('colab-df-spinner');\n",
              "          quickchartButtonEl.classList.add('colab-df-quickchart-complete');\n",
              "        }\n",
              "        (() => {\n",
              "          let quickchartButtonEl =\n",
              "            document.querySelector('#df-ff36cb2d-8d0c-412e-80cb-993066de4562 button');\n",
              "          quickchartButtonEl.style.display =\n",
              "            google.colab.kernel.accessAllowed ? 'block' : 'none';\n",
              "        })();\n",
              "      </script>\n",
              "    </div>\n",
              "\n",
              "    </div>\n",
              "  </div>\n"
            ],
            "application/vnd.google.colaboratory.intrinsic+json": {
              "type": "dataframe",
              "variable_name": "IMDB_Movies_df",
              "summary": "{\n  \"name\": \"IMDB_Movies_df\",\n  \"rows\": 3173,\n  \"fields\": [\n    {\n      \"column\": \"Title\",\n      \"properties\": {\n        \"dtype\": \"string\",\n        \"num_unique_values\": 2739,\n        \"samples\": [\n          \"The Walk\",\n          \"Welcome to Marwen\",\n          \"The Place Where the Last Man Died\"\n        ],\n        \"semantic_type\": \"\",\n        \"description\": \"\"\n      }\n    },\n    {\n      \"column\": \"IMDb Rating\",\n      \"properties\": {\n        \"dtype\": \"number\",\n        \"std\": 0.8052022790214918,\n        \"min\": 3.9,\n        \"max\": 9.5,\n        \"num_unique_values\": 48,\n        \"samples\": [\n          8.7,\n          5.3,\n          8.5\n        ],\n        \"semantic_type\": \"\",\n        \"description\": \"\"\n      }\n    },\n    {\n      \"column\": \"Year\",\n      \"properties\": {\n        \"dtype\": \"number\",\n        \"std\": 16,\n        \"min\": 1917,\n        \"max\": 2025,\n        \"num_unique_values\": 93,\n        \"samples\": [\n          1998,\n          1988,\n          1982\n        ],\n        \"semantic_type\": \"\",\n        \"description\": \"\"\n      }\n    },\n    {\n      \"column\": \"Certificates\",\n      \"properties\": {\n        \"dtype\": \"category\",\n        \"num_unique_values\": 16,\n        \"samples\": [\n          \"PG-13\",\n          \"PG\",\n          \"Approved\"\n        ],\n        \"semantic_type\": \"\",\n        \"description\": \"\"\n      }\n    },\n    {\n      \"column\": \"Genre\",\n      \"properties\": {\n        \"dtype\": \"category\",\n        \"num_unique_values\": 17,\n        \"samples\": [\n          \"Adventure\",\n          \"Biography\",\n          \"Drama\"\n        ],\n        \"semantic_type\": \"\",\n        \"description\": \"\"\n      }\n    },\n    {\n      \"column\": \"Director\",\n      \"properties\": {\n        \"dtype\": \"string\",\n        \"num_unique_values\": 2089,\n        \"samples\": [\n          \"Matt Johnson\",\n          \"Theresa Labreglio\",\n          \"John Lee Hancock\"\n        ],\n        \"semantic_type\": \"\",\n        \"description\": \"\"\n      }\n    },\n    {\n      \"column\": \"Star Cast\",\n      \"properties\": {\n        \"dtype\": \"string\",\n        \"num_unique_values\": 2592,\n        \"samples\": [\n          \"John WooKhan ChanCheng Kuo\",\n          \"Jonathan PryceJames WilbyJonny Lee Miller\",\n          \"Lorne CameronDavid HoseltonWilliam Nicholson\"\n        ],\n        \"semantic_type\": \"\",\n        \"description\": \"\"\n      }\n    },\n    {\n      \"column\": \"MetaScore\",\n      \"properties\": {\n        \"dtype\": \"number\",\n        \"std\": 11.358619498209181,\n        \"min\": 20.0,\n        \"max\": 100.0,\n        \"num_unique_values\": 78,\n        \"samples\": [\n          92.0,\n          45.0,\n          72.0\n        ],\n        \"semantic_type\": \"\",\n        \"description\": \"\"\n      }\n    },\n    {\n      \"column\": \"Poster-src\",\n      \"properties\": {\n        \"dtype\": \"string\",\n        \"num_unique_values\": 2623,\n        \"samples\": [\n          \"https://m.media-amazon.com/images/M/MV5BODZiMzAxNTctZjdiZC00OGY5LTg2NDAtNWJhNmQwZTcyMWQ2XkEyXkFqcGdeQXVyMjUzOTY1NTc@._V1_QL75_UX190_CR0,0,190,281_.jpg\",\n          \"https://m.media-amazon.com/images/M/MV5BM2EzZTAzMDMtZmQzMS00OGRlLTllMTEtMzUzMmY1ZjQ0OTM4XkEyXkFqcGdeQXVyNTM3MDMyMDQ@._V1_QL75_UY281_CR11,0,190,281_.jpg\",\n          \"https://m.media-amazon.com/images/M/MV5BMzU5MjEwMTg2Nl5BMl5BanBnXkFtZTcwNzM3MTYxNA@@._V1_QL75_UY281_CR1,0,190,281_.jpg\"\n        ],\n        \"semantic_type\": \"\",\n        \"description\": \"\"\n      }\n    },\n    {\n      \"column\": \"Duration (minutes)\",\n      \"properties\": {\n        \"dtype\": \"number\",\n        \"std\": 22.12303194219495,\n        \"min\": 46.0,\n        \"max\": 317.0,\n        \"num_unique_values\": 156,\n        \"samples\": [\n          197.0,\n          142.0,\n          219.0\n        ],\n        \"semantic_type\": \"\",\n        \"description\": \"\"\n      }\n    }\n  ]\n}"
            }
          },
          "metadata": {},
          "execution_count": 5
        }
      ]
    },
    {
      "cell_type": "code",
      "execution_count": 6,
      "metadata": {
        "id": "MznuqvAmRx_g",
        "outputId": "d81ec187-e4f9-4c62-9f5f-41ec981a614b",
        "colab": {
          "base_uri": "https://localhost:8080/"
        }
      },
      "outputs": [
        {
          "output_type": "stream",
          "name": "stdout",
          "text": [
            "<class 'pandas.core.frame.DataFrame'>\n",
            "RangeIndex: 3173 entries, 0 to 3172\n",
            "Data columns (total 10 columns):\n",
            " #   Column              Non-Null Count  Dtype  \n",
            "---  ------              --------------  -----  \n",
            " 0   Title               3173 non-null   object \n",
            " 1   IMDb Rating         3173 non-null   float64\n",
            " 2   Year                3173 non-null   int64  \n",
            " 3   Certificates        3173 non-null   object \n",
            " 4   Genre               3173 non-null   object \n",
            " 5   Director            3173 non-null   object \n",
            " 6   Star Cast           3173 non-null   object \n",
            " 7   MetaScore           3173 non-null   float64\n",
            " 8   Poster-src          3173 non-null   object \n",
            " 9   Duration (minutes)  3173 non-null   float64\n",
            "dtypes: float64(3), int64(1), object(6)\n",
            "memory usage: 248.0+ KB\n"
          ]
        }
      ],
      "source": [
        "# Understand the  structure of data\n",
        "IMDB_Movies_df.info()"
      ]
    },
    {
      "cell_type": "code",
      "source": [
        "# Checking shape of the dataset\n",
        "IMDB_Movies_df.shape"
      ],
      "metadata": {
        "colab": {
          "base_uri": "https://localhost:8080/"
        },
        "id": "pNafCITRTSz9",
        "outputId": "04601d50-0697-4a2d-8ddf-7cb25721eb92"
      },
      "execution_count": 7,
      "outputs": [
        {
          "output_type": "execute_result",
          "data": {
            "text/plain": [
              "(3173, 10)"
            ]
          },
          "metadata": {},
          "execution_count": 7
        }
      ]
    },
    {
      "cell_type": "code",
      "source": [
        "# Checking for missing values\n",
        "IMDB_Movies_df.isnull().sum()"
      ],
      "metadata": {
        "colab": {
          "base_uri": "https://localhost:8080/",
          "height": 398
        },
        "id": "NT3THMXqTeok",
        "outputId": "9d5fdff3-5efa-4f3d-dbcf-904fc8c6061d"
      },
      "execution_count": 8,
      "outputs": [
        {
          "output_type": "execute_result",
          "data": {
            "text/plain": [
              "Title                 0\n",
              "IMDb Rating           0\n",
              "Year                  0\n",
              "Certificates          0\n",
              "Genre                 0\n",
              "Director              0\n",
              "Star Cast             0\n",
              "MetaScore             0\n",
              "Poster-src            0\n",
              "Duration (minutes)    0\n",
              "dtype: int64"
            ],
            "text/html": [
              "<div>\n",
              "<style scoped>\n",
              "    .dataframe tbody tr th:only-of-type {\n",
              "        vertical-align: middle;\n",
              "    }\n",
              "\n",
              "    .dataframe tbody tr th {\n",
              "        vertical-align: top;\n",
              "    }\n",
              "\n",
              "    .dataframe thead th {\n",
              "        text-align: right;\n",
              "    }\n",
              "</style>\n",
              "<table border=\"1\" class=\"dataframe\">\n",
              "  <thead>\n",
              "    <tr style=\"text-align: right;\">\n",
              "      <th></th>\n",
              "      <th>0</th>\n",
              "    </tr>\n",
              "  </thead>\n",
              "  <tbody>\n",
              "    <tr>\n",
              "      <th>Title</th>\n",
              "      <td>0</td>\n",
              "    </tr>\n",
              "    <tr>\n",
              "      <th>IMDb Rating</th>\n",
              "      <td>0</td>\n",
              "    </tr>\n",
              "    <tr>\n",
              "      <th>Year</th>\n",
              "      <td>0</td>\n",
              "    </tr>\n",
              "    <tr>\n",
              "      <th>Certificates</th>\n",
              "      <td>0</td>\n",
              "    </tr>\n",
              "    <tr>\n",
              "      <th>Genre</th>\n",
              "      <td>0</td>\n",
              "    </tr>\n",
              "    <tr>\n",
              "      <th>Director</th>\n",
              "      <td>0</td>\n",
              "    </tr>\n",
              "    <tr>\n",
              "      <th>Star Cast</th>\n",
              "      <td>0</td>\n",
              "    </tr>\n",
              "    <tr>\n",
              "      <th>MetaScore</th>\n",
              "      <td>0</td>\n",
              "    </tr>\n",
              "    <tr>\n",
              "      <th>Poster-src</th>\n",
              "      <td>0</td>\n",
              "    </tr>\n",
              "    <tr>\n",
              "      <th>Duration (minutes)</th>\n",
              "      <td>0</td>\n",
              "    </tr>\n",
              "  </tbody>\n",
              "</table>\n",
              "</div><br><label><b>dtype:</b> int64</label>"
            ]
          },
          "metadata": {},
          "execution_count": 8
        }
      ]
    },
    {
      "cell_type": "code",
      "source": [
        "IMDB_Movies_df.columns"
      ],
      "metadata": {
        "colab": {
          "base_uri": "https://localhost:8080/"
        },
        "id": "KK841eINXJBl",
        "outputId": "38bc1c22-3195-45e8-9e8b-661fec1e0763"
      },
      "execution_count": 9,
      "outputs": [
        {
          "output_type": "execute_result",
          "data": {
            "text/plain": [
              "Index(['Title', 'IMDb Rating', 'Year', 'Certificates', 'Genre', 'Director',\n",
              "       'Star Cast', 'MetaScore', 'Poster-src', 'Duration (minutes)'],\n",
              "      dtype='object')"
            ]
          },
          "metadata": {},
          "execution_count": 9
        }
      ]
    },
    {
      "cell_type": "markdown",
      "source": [
        "<font color='Green'><h1><b>Observations/Key Insights<b></h1></font>"
      ],
      "metadata": {
        "id": "oSFvWn9STwQM"
      }
    },
    {
      "cell_type": "markdown",
      "source": [
        "- The dataset contains several features(10 columns) and 3173 rows.\n",
        "- The dataset has no null values.\n",
        "- The dataset contains a mix of numerical values represented as floats and integers , strings represented as objects.\n",
        "- Features such as Certificates and Genre may need to be converted to Category data types for performance and memory optimization because this is an NLP task"
      ],
      "metadata": {
        "id": "i1JA9aPfT5e0"
      }
    },
    {
      "cell_type": "markdown",
      "source": [
        "<font color='56c3ea'><h1><b>2.2.2 Summary Statistics<b></h1></font>"
      ],
      "metadata": {
        "id": "AqKY2RYpIm-D"
      }
    },
    {
      "cell_type": "markdown",
      "source": [
        "<font color='56c3ea'><h1><b>a) Descriptive statistics for numerical features<b></h1></font>"
      ],
      "metadata": {
        "id": "PCUy-P9dxwwa"
      }
    },
    {
      "cell_type": "code",
      "source": [
        "# Statis for numerical Values\n",
        "IMDB_Movies_df.describe()"
      ],
      "metadata": {
        "colab": {
          "base_uri": "https://localhost:8080/",
          "height": 300
        },
        "id": "bB2iwK9mxpdK",
        "outputId": "aa074d46-cf77-4b65-d3fb-26f5e8dba0ed"
      },
      "execution_count": 10,
      "outputs": [
        {
          "output_type": "execute_result",
          "data": {
            "text/plain": [
              "       IMDb Rating         Year    MetaScore  Duration (minutes)\n",
              "count  3173.000000  3173.000000  3173.000000         3173.000000\n",
              "mean      6.931012  2004.958399    65.993066          116.304822\n",
              "std       0.805202    16.819985    11.358619           22.123032\n",
              "min       3.900000  1917.000000    20.000000           46.000000\n",
              "25%       6.400000  1997.000000    64.000000          105.000000\n",
              "50%       6.900000  2010.000000    66.000000          116.300000\n",
              "75%       7.500000  2017.000000    69.000000          122.000000\n",
              "max       9.500000  2025.000000   100.000000          317.000000"
            ],
            "text/html": [
              "\n",
              "  <div id=\"df-5f6901c9-4e9c-4b0f-b876-78a16ee72b43\" class=\"colab-df-container\">\n",
              "    <div>\n",
              "<style scoped>\n",
              "    .dataframe tbody tr th:only-of-type {\n",
              "        vertical-align: middle;\n",
              "    }\n",
              "\n",
              "    .dataframe tbody tr th {\n",
              "        vertical-align: top;\n",
              "    }\n",
              "\n",
              "    .dataframe thead th {\n",
              "        text-align: right;\n",
              "    }\n",
              "</style>\n",
              "<table border=\"1\" class=\"dataframe\">\n",
              "  <thead>\n",
              "    <tr style=\"text-align: right;\">\n",
              "      <th></th>\n",
              "      <th>IMDb Rating</th>\n",
              "      <th>Year</th>\n",
              "      <th>MetaScore</th>\n",
              "      <th>Duration (minutes)</th>\n",
              "    </tr>\n",
              "  </thead>\n",
              "  <tbody>\n",
              "    <tr>\n",
              "      <th>count</th>\n",
              "      <td>3173.000000</td>\n",
              "      <td>3173.000000</td>\n",
              "      <td>3173.000000</td>\n",
              "      <td>3173.000000</td>\n",
              "    </tr>\n",
              "    <tr>\n",
              "      <th>mean</th>\n",
              "      <td>6.931012</td>\n",
              "      <td>2004.958399</td>\n",
              "      <td>65.993066</td>\n",
              "      <td>116.304822</td>\n",
              "    </tr>\n",
              "    <tr>\n",
              "      <th>std</th>\n",
              "      <td>0.805202</td>\n",
              "      <td>16.819985</td>\n",
              "      <td>11.358619</td>\n",
              "      <td>22.123032</td>\n",
              "    </tr>\n",
              "    <tr>\n",
              "      <th>min</th>\n",
              "      <td>3.900000</td>\n",
              "      <td>1917.000000</td>\n",
              "      <td>20.000000</td>\n",
              "      <td>46.000000</td>\n",
              "    </tr>\n",
              "    <tr>\n",
              "      <th>25%</th>\n",
              "      <td>6.400000</td>\n",
              "      <td>1997.000000</td>\n",
              "      <td>64.000000</td>\n",
              "      <td>105.000000</td>\n",
              "    </tr>\n",
              "    <tr>\n",
              "      <th>50%</th>\n",
              "      <td>6.900000</td>\n",
              "      <td>2010.000000</td>\n",
              "      <td>66.000000</td>\n",
              "      <td>116.300000</td>\n",
              "    </tr>\n",
              "    <tr>\n",
              "      <th>75%</th>\n",
              "      <td>7.500000</td>\n",
              "      <td>2017.000000</td>\n",
              "      <td>69.000000</td>\n",
              "      <td>122.000000</td>\n",
              "    </tr>\n",
              "    <tr>\n",
              "      <th>max</th>\n",
              "      <td>9.500000</td>\n",
              "      <td>2025.000000</td>\n",
              "      <td>100.000000</td>\n",
              "      <td>317.000000</td>\n",
              "    </tr>\n",
              "  </tbody>\n",
              "</table>\n",
              "</div>\n",
              "    <div class=\"colab-df-buttons\">\n",
              "\n",
              "  <div class=\"colab-df-container\">\n",
              "    <button class=\"colab-df-convert\" onclick=\"convertToInteractive('df-5f6901c9-4e9c-4b0f-b876-78a16ee72b43')\"\n",
              "            title=\"Convert this dataframe to an interactive table.\"\n",
              "            style=\"display:none;\">\n",
              "\n",
              "  <svg xmlns=\"http://www.w3.org/2000/svg\" height=\"24px\" viewBox=\"0 -960 960 960\">\n",
              "    <path d=\"M120-120v-720h720v720H120Zm60-500h600v-160H180v160Zm220 220h160v-160H400v160Zm0 220h160v-160H400v160ZM180-400h160v-160H180v160Zm440 0h160v-160H620v160ZM180-180h160v-160H180v160Zm440 0h160v-160H620v160Z\"/>\n",
              "  </svg>\n",
              "    </button>\n",
              "\n",
              "  <style>\n",
              "    .colab-df-container {\n",
              "      display:flex;\n",
              "      gap: 12px;\n",
              "    }\n",
              "\n",
              "    .colab-df-convert {\n",
              "      background-color: #E8F0FE;\n",
              "      border: none;\n",
              "      border-radius: 50%;\n",
              "      cursor: pointer;\n",
              "      display: none;\n",
              "      fill: #1967D2;\n",
              "      height: 32px;\n",
              "      padding: 0 0 0 0;\n",
              "      width: 32px;\n",
              "    }\n",
              "\n",
              "    .colab-df-convert:hover {\n",
              "      background-color: #E2EBFA;\n",
              "      box-shadow: 0px 1px 2px rgba(60, 64, 67, 0.3), 0px 1px 3px 1px rgba(60, 64, 67, 0.15);\n",
              "      fill: #174EA6;\n",
              "    }\n",
              "\n",
              "    .colab-df-buttons div {\n",
              "      margin-bottom: 4px;\n",
              "    }\n",
              "\n",
              "    [theme=dark] .colab-df-convert {\n",
              "      background-color: #3B4455;\n",
              "      fill: #D2E3FC;\n",
              "    }\n",
              "\n",
              "    [theme=dark] .colab-df-convert:hover {\n",
              "      background-color: #434B5C;\n",
              "      box-shadow: 0px 1px 3px 1px rgba(0, 0, 0, 0.15);\n",
              "      filter: drop-shadow(0px 1px 2px rgba(0, 0, 0, 0.3));\n",
              "      fill: #FFFFFF;\n",
              "    }\n",
              "  </style>\n",
              "\n",
              "    <script>\n",
              "      const buttonEl =\n",
              "        document.querySelector('#df-5f6901c9-4e9c-4b0f-b876-78a16ee72b43 button.colab-df-convert');\n",
              "      buttonEl.style.display =\n",
              "        google.colab.kernel.accessAllowed ? 'block' : 'none';\n",
              "\n",
              "      async function convertToInteractive(key) {\n",
              "        const element = document.querySelector('#df-5f6901c9-4e9c-4b0f-b876-78a16ee72b43');\n",
              "        const dataTable =\n",
              "          await google.colab.kernel.invokeFunction('convertToInteractive',\n",
              "                                                    [key], {});\n",
              "        if (!dataTable) return;\n",
              "\n",
              "        const docLinkHtml = 'Like what you see? Visit the ' +\n",
              "          '<a target=\"_blank\" href=https://colab.research.google.com/notebooks/data_table.ipynb>data table notebook</a>'\n",
              "          + ' to learn more about interactive tables.';\n",
              "        element.innerHTML = '';\n",
              "        dataTable['output_type'] = 'display_data';\n",
              "        await google.colab.output.renderOutput(dataTable, element);\n",
              "        const docLink = document.createElement('div');\n",
              "        docLink.innerHTML = docLinkHtml;\n",
              "        element.appendChild(docLink);\n",
              "      }\n",
              "    </script>\n",
              "  </div>\n",
              "\n",
              "\n",
              "    <div id=\"df-95eb53a8-3227-42fc-a0b0-b5602e8cb96d\">\n",
              "      <button class=\"colab-df-quickchart\" onclick=\"quickchart('df-95eb53a8-3227-42fc-a0b0-b5602e8cb96d')\"\n",
              "                title=\"Suggest charts\"\n",
              "                style=\"display:none;\">\n",
              "\n",
              "<svg xmlns=\"http://www.w3.org/2000/svg\" height=\"24px\"viewBox=\"0 0 24 24\"\n",
              "     width=\"24px\">\n",
              "    <g>\n",
              "        <path d=\"M19 3H5c-1.1 0-2 .9-2 2v14c0 1.1.9 2 2 2h14c1.1 0 2-.9 2-2V5c0-1.1-.9-2-2-2zM9 17H7v-7h2v7zm4 0h-2V7h2v10zm4 0h-2v-4h2v4z\"/>\n",
              "    </g>\n",
              "</svg>\n",
              "      </button>\n",
              "\n",
              "<style>\n",
              "  .colab-df-quickchart {\n",
              "      --bg-color: #E8F0FE;\n",
              "      --fill-color: #1967D2;\n",
              "      --hover-bg-color: #E2EBFA;\n",
              "      --hover-fill-color: #174EA6;\n",
              "      --disabled-fill-color: #AAA;\n",
              "      --disabled-bg-color: #DDD;\n",
              "  }\n",
              "\n",
              "  [theme=dark] .colab-df-quickchart {\n",
              "      --bg-color: #3B4455;\n",
              "      --fill-color: #D2E3FC;\n",
              "      --hover-bg-color: #434B5C;\n",
              "      --hover-fill-color: #FFFFFF;\n",
              "      --disabled-bg-color: #3B4455;\n",
              "      --disabled-fill-color: #666;\n",
              "  }\n",
              "\n",
              "  .colab-df-quickchart {\n",
              "    background-color: var(--bg-color);\n",
              "    border: none;\n",
              "    border-radius: 50%;\n",
              "    cursor: pointer;\n",
              "    display: none;\n",
              "    fill: var(--fill-color);\n",
              "    height: 32px;\n",
              "    padding: 0;\n",
              "    width: 32px;\n",
              "  }\n",
              "\n",
              "  .colab-df-quickchart:hover {\n",
              "    background-color: var(--hover-bg-color);\n",
              "    box-shadow: 0 1px 2px rgba(60, 64, 67, 0.3), 0 1px 3px 1px rgba(60, 64, 67, 0.15);\n",
              "    fill: var(--button-hover-fill-color);\n",
              "  }\n",
              "\n",
              "  .colab-df-quickchart-complete:disabled,\n",
              "  .colab-df-quickchart-complete:disabled:hover {\n",
              "    background-color: var(--disabled-bg-color);\n",
              "    fill: var(--disabled-fill-color);\n",
              "    box-shadow: none;\n",
              "  }\n",
              "\n",
              "  .colab-df-spinner {\n",
              "    border: 2px solid var(--fill-color);\n",
              "    border-color: transparent;\n",
              "    border-bottom-color: var(--fill-color);\n",
              "    animation:\n",
              "      spin 1s steps(1) infinite;\n",
              "  }\n",
              "\n",
              "  @keyframes spin {\n",
              "    0% {\n",
              "      border-color: transparent;\n",
              "      border-bottom-color: var(--fill-color);\n",
              "      border-left-color: var(--fill-color);\n",
              "    }\n",
              "    20% {\n",
              "      border-color: transparent;\n",
              "      border-left-color: var(--fill-color);\n",
              "      border-top-color: var(--fill-color);\n",
              "    }\n",
              "    30% {\n",
              "      border-color: transparent;\n",
              "      border-left-color: var(--fill-color);\n",
              "      border-top-color: var(--fill-color);\n",
              "      border-right-color: var(--fill-color);\n",
              "    }\n",
              "    40% {\n",
              "      border-color: transparent;\n",
              "      border-right-color: var(--fill-color);\n",
              "      border-top-color: var(--fill-color);\n",
              "    }\n",
              "    60% {\n",
              "      border-color: transparent;\n",
              "      border-right-color: var(--fill-color);\n",
              "    }\n",
              "    80% {\n",
              "      border-color: transparent;\n",
              "      border-right-color: var(--fill-color);\n",
              "      border-bottom-color: var(--fill-color);\n",
              "    }\n",
              "    90% {\n",
              "      border-color: transparent;\n",
              "      border-bottom-color: var(--fill-color);\n",
              "    }\n",
              "  }\n",
              "</style>\n",
              "\n",
              "      <script>\n",
              "        async function quickchart(key) {\n",
              "          const quickchartButtonEl =\n",
              "            document.querySelector('#' + key + ' button');\n",
              "          quickchartButtonEl.disabled = true;  // To prevent multiple clicks.\n",
              "          quickchartButtonEl.classList.add('colab-df-spinner');\n",
              "          try {\n",
              "            const charts = await google.colab.kernel.invokeFunction(\n",
              "                'suggestCharts', [key], {});\n",
              "          } catch (error) {\n",
              "            console.error('Error during call to suggestCharts:', error);\n",
              "          }\n",
              "          quickchartButtonEl.classList.remove('colab-df-spinner');\n",
              "          quickchartButtonEl.classList.add('colab-df-quickchart-complete');\n",
              "        }\n",
              "        (() => {\n",
              "          let quickchartButtonEl =\n",
              "            document.querySelector('#df-95eb53a8-3227-42fc-a0b0-b5602e8cb96d button');\n",
              "          quickchartButtonEl.style.display =\n",
              "            google.colab.kernel.accessAllowed ? 'block' : 'none';\n",
              "        })();\n",
              "      </script>\n",
              "    </div>\n",
              "\n",
              "    </div>\n",
              "  </div>\n"
            ],
            "application/vnd.google.colaboratory.intrinsic+json": {
              "type": "dataframe",
              "summary": "{\n  \"name\": \"IMDB_Movies_df\",\n  \"rows\": 8,\n  \"fields\": [\n    {\n      \"column\": \"IMDb Rating\",\n      \"properties\": {\n        \"dtype\": \"number\",\n        \"std\": 1119.7098546250127,\n        \"min\": 0.8052022790214918,\n        \"max\": 3173.0,\n        \"num_unique_values\": 8,\n        \"samples\": [\n          6.931011660888748,\n          6.9,\n          3173.0\n        ],\n        \"semantic_type\": \"\",\n        \"description\": \"\"\n      }\n    },\n    {\n      \"column\": \"Year\",\n      \"properties\": {\n        \"dtype\": \"number\",\n        \"std\": 864.2777284570195,\n        \"min\": 16.8199847793691,\n        \"max\": 3173.0,\n        \"num_unique_values\": 8,\n        \"samples\": [\n          2004.9583989914906,\n          2010.0,\n          3173.0\n        ],\n        \"semantic_type\": \"\",\n        \"description\": \"\"\n      }\n    },\n    {\n      \"column\": \"MetaScore\",\n      \"properties\": {\n        \"dtype\": \"number\",\n        \"std\": 1102.172670603177,\n        \"min\": 11.358619498209181,\n        \"max\": 3173.0,\n        \"num_unique_values\": 8,\n        \"samples\": [\n          65.99306649858178,\n          66.0,\n          3173.0\n        ],\n        \"semantic_type\": \"\",\n        \"description\": \"\"\n      }\n    },\n    {\n      \"column\": \"Duration (minutes)\",\n      \"properties\": {\n        \"dtype\": \"number\",\n        \"std\": 1082.7358068252058,\n        \"min\": 22.12303194219495,\n        \"max\": 3173.0,\n        \"num_unique_values\": 8,\n        \"samples\": [\n          116.3048219350772,\n          116.3,\n          3173.0\n        ],\n        \"semantic_type\": \"\",\n        \"description\": \"\"\n      }\n    }\n  ]\n}"
            }
          },
          "metadata": {},
          "execution_count": 10
        }
      ]
    },
    {
      "cell_type": "markdown",
      "source": [
        "<font color='Green'><h1><b>Observations/Key Insights<b></h1></font>"
      ],
      "metadata": {
        "id": "zkXvKW6CyTYI"
      }
    },
    {
      "cell_type": "markdown",
      "source": [
        "Interpertation of discriptive statistics for Numerical Features\n",
        "\n",
        "IMDb Rating\n",
        "\n",
        "<li>Count: 3173 , no missing entry</li>\n",
        "<li>Mean: the average rating for a movie in IMDB is 6.93 showing that most movies are liked by the users </li>\n",
        "<li>Min and Max: lowest rating is 3.9 indicating the movie was not well liked compared to highest rating of 9.5 which indicates some movies are really liked as the max is close to 10</li>\n",
        "<li>Standard Deviation: 0.8 , shwowing wide range of ratings by the users</li>\n",
        "\n",
        "Year\n",
        "\n",
        "<li>Count: 3173 , no missing entry</li>\n",
        "<li>Min and Max: the oldest movie in IMDB is from 1917 and the latest movie is from 2025 , this indicates that IMDB have a wide collection of movies in terms of the period they came out covering wide range of years</li>\n",
        "<li>Standard Deviation: 16 , shwowing wide range of release years</li>\n",
        "\n",
        "MetaScore\n",
        "\n",
        "<li>Count: 3173 , no missing entry</li>\n",
        "<li>Mean: the average score for a movie is 65.99 (6.6 - in the scale of 10) , this shows some similality with audience average score of 6.93 indicating audience and professional ecaluation/criticism of IMDB movies almost goes together</li>\n",
        "<li>Min and Max: lowest score for a movie is 20 idicating some movie have a have had really bad criticism while the highest score is 100 showing that some movies have a very good quality</li>\n",
        "<li>Standard Deviation: 11.4 , shwowing wide range of spread for the ratings</li>\n",
        "\n",
        "Duration (minutes)\n",
        "\n",
        "<li>Count: 3173 , no missing entry</li>\n",
        "<li>Mean: the average duration of a movie in IMDB is close to 2 hours </li>\n",
        "<li>Min and Max: lowest duration for a movie is 46 min while the highest duration for a movie is close to 5 hrs this indicates that some movies are really long</li>\n",
        "<li>Standard Deviation: 22 , shwowing wide range of movie durations in minutes</li>"
      ],
      "metadata": {
        "id": "l2FgDqMryXTn"
      }
    },
    {
      "cell_type": "markdown",
      "source": [
        "<font color='56c3ea'><h1><b>b) Descriptive statistics for categorical features<b></h1></font>"
      ],
      "metadata": {
        "id": "4JOhQQnF4TFR"
      }
    },
    {
      "cell_type": "code",
      "source": [
        "# Summary stats for categorical features\n",
        "IMDB_Movies_df.describe(include=['object'])"
      ],
      "metadata": {
        "colab": {
          "base_uri": "https://localhost:8080/",
          "height": 175
        },
        "id": "g4w4HeboxpoZ",
        "outputId": "255ca8ac-c8fa-4489-b822-e322ce4f66ee"
      },
      "execution_count": 11,
      "outputs": [
        {
          "output_type": "execute_result",
          "data": {
            "text/plain": [
              "           Title Certificates      Genre      Director  \\\n",
              "count       3173         3173       3173          3173   \n",
              "unique      2739           16         17          2089   \n",
              "top     Zootopia            R  Biography  Ridley Scott   \n",
              "freq           5         1802        868            23   \n",
              "\n",
              "                                      Star Cast  \\\n",
              "count                                      3173   \n",
              "unique                                     2592   \n",
              "top     Daniel RadcliffeEmma WatsonRupert Grint   \n",
              "freq                                        146   \n",
              "\n",
              "                                               Poster-src  \n",
              "count                                                3173  \n",
              "unique                                               2623  \n",
              "top     https://m.media-amazon.com/images/M/MV5BOTMyMj...  \n",
              "freq                                                  144  "
            ],
            "text/html": [
              "\n",
              "  <div id=\"df-85c6341b-d4bc-4316-b72d-40e66f95b1ae\" class=\"colab-df-container\">\n",
              "    <div>\n",
              "<style scoped>\n",
              "    .dataframe tbody tr th:only-of-type {\n",
              "        vertical-align: middle;\n",
              "    }\n",
              "\n",
              "    .dataframe tbody tr th {\n",
              "        vertical-align: top;\n",
              "    }\n",
              "\n",
              "    .dataframe thead th {\n",
              "        text-align: right;\n",
              "    }\n",
              "</style>\n",
              "<table border=\"1\" class=\"dataframe\">\n",
              "  <thead>\n",
              "    <tr style=\"text-align: right;\">\n",
              "      <th></th>\n",
              "      <th>Title</th>\n",
              "      <th>Certificates</th>\n",
              "      <th>Genre</th>\n",
              "      <th>Director</th>\n",
              "      <th>Star Cast</th>\n",
              "      <th>Poster-src</th>\n",
              "    </tr>\n",
              "  </thead>\n",
              "  <tbody>\n",
              "    <tr>\n",
              "      <th>count</th>\n",
              "      <td>3173</td>\n",
              "      <td>3173</td>\n",
              "      <td>3173</td>\n",
              "      <td>3173</td>\n",
              "      <td>3173</td>\n",
              "      <td>3173</td>\n",
              "    </tr>\n",
              "    <tr>\n",
              "      <th>unique</th>\n",
              "      <td>2739</td>\n",
              "      <td>16</td>\n",
              "      <td>17</td>\n",
              "      <td>2089</td>\n",
              "      <td>2592</td>\n",
              "      <td>2623</td>\n",
              "    </tr>\n",
              "    <tr>\n",
              "      <th>top</th>\n",
              "      <td>Zootopia</td>\n",
              "      <td>R</td>\n",
              "      <td>Biography</td>\n",
              "      <td>Ridley Scott</td>\n",
              "      <td>Daniel RadcliffeEmma WatsonRupert Grint</td>\n",
              "      <td>https://m.media-amazon.com/images/M/MV5BOTMyMj...</td>\n",
              "    </tr>\n",
              "    <tr>\n",
              "      <th>freq</th>\n",
              "      <td>5</td>\n",
              "      <td>1802</td>\n",
              "      <td>868</td>\n",
              "      <td>23</td>\n",
              "      <td>146</td>\n",
              "      <td>144</td>\n",
              "    </tr>\n",
              "  </tbody>\n",
              "</table>\n",
              "</div>\n",
              "    <div class=\"colab-df-buttons\">\n",
              "\n",
              "  <div class=\"colab-df-container\">\n",
              "    <button class=\"colab-df-convert\" onclick=\"convertToInteractive('df-85c6341b-d4bc-4316-b72d-40e66f95b1ae')\"\n",
              "            title=\"Convert this dataframe to an interactive table.\"\n",
              "            style=\"display:none;\">\n",
              "\n",
              "  <svg xmlns=\"http://www.w3.org/2000/svg\" height=\"24px\" viewBox=\"0 -960 960 960\">\n",
              "    <path d=\"M120-120v-720h720v720H120Zm60-500h600v-160H180v160Zm220 220h160v-160H400v160Zm0 220h160v-160H400v160ZM180-400h160v-160H180v160Zm440 0h160v-160H620v160ZM180-180h160v-160H180v160Zm440 0h160v-160H620v160Z\"/>\n",
              "  </svg>\n",
              "    </button>\n",
              "\n",
              "  <style>\n",
              "    .colab-df-container {\n",
              "      display:flex;\n",
              "      gap: 12px;\n",
              "    }\n",
              "\n",
              "    .colab-df-convert {\n",
              "      background-color: #E8F0FE;\n",
              "      border: none;\n",
              "      border-radius: 50%;\n",
              "      cursor: pointer;\n",
              "      display: none;\n",
              "      fill: #1967D2;\n",
              "      height: 32px;\n",
              "      padding: 0 0 0 0;\n",
              "      width: 32px;\n",
              "    }\n",
              "\n",
              "    .colab-df-convert:hover {\n",
              "      background-color: #E2EBFA;\n",
              "      box-shadow: 0px 1px 2px rgba(60, 64, 67, 0.3), 0px 1px 3px 1px rgba(60, 64, 67, 0.15);\n",
              "      fill: #174EA6;\n",
              "    }\n",
              "\n",
              "    .colab-df-buttons div {\n",
              "      margin-bottom: 4px;\n",
              "    }\n",
              "\n",
              "    [theme=dark] .colab-df-convert {\n",
              "      background-color: #3B4455;\n",
              "      fill: #D2E3FC;\n",
              "    }\n",
              "\n",
              "    [theme=dark] .colab-df-convert:hover {\n",
              "      background-color: #434B5C;\n",
              "      box-shadow: 0px 1px 3px 1px rgba(0, 0, 0, 0.15);\n",
              "      filter: drop-shadow(0px 1px 2px rgba(0, 0, 0, 0.3));\n",
              "      fill: #FFFFFF;\n",
              "    }\n",
              "  </style>\n",
              "\n",
              "    <script>\n",
              "      const buttonEl =\n",
              "        document.querySelector('#df-85c6341b-d4bc-4316-b72d-40e66f95b1ae button.colab-df-convert');\n",
              "      buttonEl.style.display =\n",
              "        google.colab.kernel.accessAllowed ? 'block' : 'none';\n",
              "\n",
              "      async function convertToInteractive(key) {\n",
              "        const element = document.querySelector('#df-85c6341b-d4bc-4316-b72d-40e66f95b1ae');\n",
              "        const dataTable =\n",
              "          await google.colab.kernel.invokeFunction('convertToInteractive',\n",
              "                                                    [key], {});\n",
              "        if (!dataTable) return;\n",
              "\n",
              "        const docLinkHtml = 'Like what you see? Visit the ' +\n",
              "          '<a target=\"_blank\" href=https://colab.research.google.com/notebooks/data_table.ipynb>data table notebook</a>'\n",
              "          + ' to learn more about interactive tables.';\n",
              "        element.innerHTML = '';\n",
              "        dataTable['output_type'] = 'display_data';\n",
              "        await google.colab.output.renderOutput(dataTable, element);\n",
              "        const docLink = document.createElement('div');\n",
              "        docLink.innerHTML = docLinkHtml;\n",
              "        element.appendChild(docLink);\n",
              "      }\n",
              "    </script>\n",
              "  </div>\n",
              "\n",
              "\n",
              "    <div id=\"df-279c36e0-1b8a-4a2e-bed1-5cf5b9c41828\">\n",
              "      <button class=\"colab-df-quickchart\" onclick=\"quickchart('df-279c36e0-1b8a-4a2e-bed1-5cf5b9c41828')\"\n",
              "                title=\"Suggest charts\"\n",
              "                style=\"display:none;\">\n",
              "\n",
              "<svg xmlns=\"http://www.w3.org/2000/svg\" height=\"24px\"viewBox=\"0 0 24 24\"\n",
              "     width=\"24px\">\n",
              "    <g>\n",
              "        <path d=\"M19 3H5c-1.1 0-2 .9-2 2v14c0 1.1.9 2 2 2h14c1.1 0 2-.9 2-2V5c0-1.1-.9-2-2-2zM9 17H7v-7h2v7zm4 0h-2V7h2v10zm4 0h-2v-4h2v4z\"/>\n",
              "    </g>\n",
              "</svg>\n",
              "      </button>\n",
              "\n",
              "<style>\n",
              "  .colab-df-quickchart {\n",
              "      --bg-color: #E8F0FE;\n",
              "      --fill-color: #1967D2;\n",
              "      --hover-bg-color: #E2EBFA;\n",
              "      --hover-fill-color: #174EA6;\n",
              "      --disabled-fill-color: #AAA;\n",
              "      --disabled-bg-color: #DDD;\n",
              "  }\n",
              "\n",
              "  [theme=dark] .colab-df-quickchart {\n",
              "      --bg-color: #3B4455;\n",
              "      --fill-color: #D2E3FC;\n",
              "      --hover-bg-color: #434B5C;\n",
              "      --hover-fill-color: #FFFFFF;\n",
              "      --disabled-bg-color: #3B4455;\n",
              "      --disabled-fill-color: #666;\n",
              "  }\n",
              "\n",
              "  .colab-df-quickchart {\n",
              "    background-color: var(--bg-color);\n",
              "    border: none;\n",
              "    border-radius: 50%;\n",
              "    cursor: pointer;\n",
              "    display: none;\n",
              "    fill: var(--fill-color);\n",
              "    height: 32px;\n",
              "    padding: 0;\n",
              "    width: 32px;\n",
              "  }\n",
              "\n",
              "  .colab-df-quickchart:hover {\n",
              "    background-color: var(--hover-bg-color);\n",
              "    box-shadow: 0 1px 2px rgba(60, 64, 67, 0.3), 0 1px 3px 1px rgba(60, 64, 67, 0.15);\n",
              "    fill: var(--button-hover-fill-color);\n",
              "  }\n",
              "\n",
              "  .colab-df-quickchart-complete:disabled,\n",
              "  .colab-df-quickchart-complete:disabled:hover {\n",
              "    background-color: var(--disabled-bg-color);\n",
              "    fill: var(--disabled-fill-color);\n",
              "    box-shadow: none;\n",
              "  }\n",
              "\n",
              "  .colab-df-spinner {\n",
              "    border: 2px solid var(--fill-color);\n",
              "    border-color: transparent;\n",
              "    border-bottom-color: var(--fill-color);\n",
              "    animation:\n",
              "      spin 1s steps(1) infinite;\n",
              "  }\n",
              "\n",
              "  @keyframes spin {\n",
              "    0% {\n",
              "      border-color: transparent;\n",
              "      border-bottom-color: var(--fill-color);\n",
              "      border-left-color: var(--fill-color);\n",
              "    }\n",
              "    20% {\n",
              "      border-color: transparent;\n",
              "      border-left-color: var(--fill-color);\n",
              "      border-top-color: var(--fill-color);\n",
              "    }\n",
              "    30% {\n",
              "      border-color: transparent;\n",
              "      border-left-color: var(--fill-color);\n",
              "      border-top-color: var(--fill-color);\n",
              "      border-right-color: var(--fill-color);\n",
              "    }\n",
              "    40% {\n",
              "      border-color: transparent;\n",
              "      border-right-color: var(--fill-color);\n",
              "      border-top-color: var(--fill-color);\n",
              "    }\n",
              "    60% {\n",
              "      border-color: transparent;\n",
              "      border-right-color: var(--fill-color);\n",
              "    }\n",
              "    80% {\n",
              "      border-color: transparent;\n",
              "      border-right-color: var(--fill-color);\n",
              "      border-bottom-color: var(--fill-color);\n",
              "    }\n",
              "    90% {\n",
              "      border-color: transparent;\n",
              "      border-bottom-color: var(--fill-color);\n",
              "    }\n",
              "  }\n",
              "</style>\n",
              "\n",
              "      <script>\n",
              "        async function quickchart(key) {\n",
              "          const quickchartButtonEl =\n",
              "            document.querySelector('#' + key + ' button');\n",
              "          quickchartButtonEl.disabled = true;  // To prevent multiple clicks.\n",
              "          quickchartButtonEl.classList.add('colab-df-spinner');\n",
              "          try {\n",
              "            const charts = await google.colab.kernel.invokeFunction(\n",
              "                'suggestCharts', [key], {});\n",
              "          } catch (error) {\n",
              "            console.error('Error during call to suggestCharts:', error);\n",
              "          }\n",
              "          quickchartButtonEl.classList.remove('colab-df-spinner');\n",
              "          quickchartButtonEl.classList.add('colab-df-quickchart-complete');\n",
              "        }\n",
              "        (() => {\n",
              "          let quickchartButtonEl =\n",
              "            document.querySelector('#df-279c36e0-1b8a-4a2e-bed1-5cf5b9c41828 button');\n",
              "          quickchartButtonEl.style.display =\n",
              "            google.colab.kernel.accessAllowed ? 'block' : 'none';\n",
              "        })();\n",
              "      </script>\n",
              "    </div>\n",
              "\n",
              "    </div>\n",
              "  </div>\n"
            ],
            "application/vnd.google.colaboratory.intrinsic+json": {
              "type": "dataframe",
              "summary": "{\n  \"name\": \"IMDB_Movies_df\",\n  \"rows\": 4,\n  \"fields\": [\n    {\n      \"column\": \"Title\",\n      \"properties\": {\n        \"dtype\": \"string\",\n        \"num_unique_values\": 4,\n        \"samples\": [\n          2739,\n          \"5\",\n          \"3173\"\n        ],\n        \"semantic_type\": \"\",\n        \"description\": \"\"\n      }\n    },\n    {\n      \"column\": \"Certificates\",\n      \"properties\": {\n        \"dtype\": \"string\",\n        \"num_unique_values\": 4,\n        \"samples\": [\n          16,\n          \"1802\",\n          \"3173\"\n        ],\n        \"semantic_type\": \"\",\n        \"description\": \"\"\n      }\n    },\n    {\n      \"column\": \"Genre\",\n      \"properties\": {\n        \"dtype\": \"string\",\n        \"num_unique_values\": 4,\n        \"samples\": [\n          17,\n          \"868\",\n          \"3173\"\n        ],\n        \"semantic_type\": \"\",\n        \"description\": \"\"\n      }\n    },\n    {\n      \"column\": \"Director\",\n      \"properties\": {\n        \"dtype\": \"string\",\n        \"num_unique_values\": 4,\n        \"samples\": [\n          2089,\n          \"23\",\n          \"3173\"\n        ],\n        \"semantic_type\": \"\",\n        \"description\": \"\"\n      }\n    },\n    {\n      \"column\": \"Star Cast\",\n      \"properties\": {\n        \"dtype\": \"string\",\n        \"num_unique_values\": 4,\n        \"samples\": [\n          2592,\n          \"146\",\n          \"3173\"\n        ],\n        \"semantic_type\": \"\",\n        \"description\": \"\"\n      }\n    },\n    {\n      \"column\": \"Poster-src\",\n      \"properties\": {\n        \"dtype\": \"string\",\n        \"num_unique_values\": 4,\n        \"samples\": [\n          2623,\n          \"144\",\n          \"3173\"\n        ],\n        \"semantic_type\": \"\",\n        \"description\": \"\"\n      }\n    }\n  ]\n}"
            }
          },
          "metadata": {},
          "execution_count": 11
        }
      ]
    },
    {
      "cell_type": "markdown",
      "source": [
        "<font color='Green'><h1><b>Observations/Key Insights<b></h1></font>\n"
      ],
      "metadata": {
        "id": "Rp1t-lNyAzzZ"
      }
    },
    {
      "cell_type": "markdown",
      "source": [
        "Interpretation of Descriptive Statistics for Categorical Features\n",
        "\n",
        "Title\n",
        "\n",
        "<li>Count: 3173 , no missing entry</li>\n",
        "<li>Unique: 2739 classes , indicating 334 movies have the same names</li>\n",
        "<li>Most frequent: Majority title for the movies is Zootopia with 5 occurances</li>\n",
        "\n",
        "Certificates\n",
        "\n",
        "<li>Count: 3173 , no missing entry</li>\n",
        "<li>Unique: 16 classes of certificates</li>\n",
        "<li>Most frequent: Majority are rated R , most movie are restricted and not for people under 17</li>\n",
        "\n",
        "Genre\n",
        "\n",
        "<li>Count: 3173 , no missing entry</li>\n",
        "<li>Unique: 17 classes of Genre</li>\n",
        "<li>Most frequent: Majority genre is Biography , meaning most movie are about life of other individuals</li>\n",
        "\n",
        "Director\n",
        "\n",
        "<li>Count: 3173 , no missing entry</li>\n",
        "<li>Unique: 2089 classes , showing some movies have been done by the same director</li>\n",
        "<li>Most frequent: Majority of the movies in IMDB have been directed by Ridley Scott appearing 23 times</li>\n",
        "\n",
        "Star Cast\n",
        "\n",
        "<li>Count: 3173 , no missing entry</li>\n",
        "<li>Unique: 2592 main actors implying some actors have been in more than one movies </li>\n",
        "<li>Most frequent: Actots Daniel Radcliffe ,Emma Watson  ,Rupert Grint are the most common actors appearing in 146 movies</li>"
      ],
      "metadata": {
        "id": "n-r4u9tK46ZS"
      }
    },
    {
      "cell_type": "markdown",
      "source": [
        "<font color='56c3ea'><h1><b>3 EDA - Exploratory Data Analysis<b></h1></font>"
      ],
      "metadata": {
        "id": "pMQ3hiM6xOkO"
      }
    },
    {
      "cell_type": "markdown",
      "source": [
        "1.Distrubution of various features in the dataset\n",
        "\n",
        "- genres\n",
        "\n",
        "- ratings\n",
        "\n",
        "2.What are keyword trends in the IMDB datasets"
      ],
      "metadata": {
        "id": "kIKHmG7-LMdm"
      }
    },
    {
      "cell_type": "markdown",
      "source": [
        "<font color='56c3ea'><h1><b>3.1 Univariate Analysis: How many movies are made in each genre? Is there a genre that movies are made the most as per IMDB dataset?<b></h1></font>"
      ],
      "metadata": {
        "id": "Iq7uHEwjMI_f"
      }
    },
    {
      "cell_type": "code",
      "source": [
        "# Calculate percentages\n",
        "total_count = len(IMDB_Movies_df)\n",
        "class_counts = IMDB_Movies_df['Genre'].value_counts()\n",
        "percentages = (class_counts / total_count) * 100\n",
        "\n",
        "# Set the aesthetic style of the plots\n",
        "sns.set_style(\"darkgrid\")\n",
        "\n",
        "# Create the figure and the axes\n",
        "plt.figure(figsize=(12, 4))\n",
        "\n",
        "# Plot the genre distribution with diagonal labels\n",
        "ax = sns.countplot(x='Genre', data=IMDB_Movies_df, hue='Genre', palette='Set2', legend=False)\n",
        "plt.xticks(rotation=45, ha='right')\n",
        "\n",
        "# Add titles and labels\n",
        "plt.title('Genre Distribution For Movies', fontsize=14)\n",
        "plt.xlabel('Genre', fontsize=12)\n",
        "plt.ylabel('Count', fontsize=12)\n",
        "\n",
        "# Annotate the bars with the count of each category\n",
        "for p in ax.patches:\n",
        "    ax.annotate(f'{p.get_height()}', (p.get_x() + p.get_width() / 2., p.get_height()),\n",
        "                ha='center', va='center', fontsize=11, color='black', xytext=(0, 10),\n",
        "                textcoords='offset points')\n",
        "\n",
        "# Show the plot\n",
        "plt.show()"
      ],
      "metadata": {
        "colab": {
          "base_uri": "https://localhost:8080/",
          "height": 478
        },
        "id": "ic6vSWYiVoOw",
        "outputId": "2cef09d2-fa29-435c-a8f6-68fb600b4ede"
      },
      "execution_count": 12,
      "outputs": [
        {
          "output_type": "display_data",
          "data": {
            "text/plain": [
              "<Figure size 1200x400 with 1 Axes>"
            ],
            "image/png": "[encoded data removed]"
          },
          "metadata": {}
        }
      ]
    },
    {
      "cell_type": "markdown",
      "source": [
        "<font color='Green'><h1><b>Interpretation of Genres for movies distribution<b></h1></font>"
      ],
      "metadata": {
        "id": "LfseLUquStlI"
      }
    },
    {
      "cell_type": "markdown",
      "source": [
        "- Majority of the movies are based opn Biographies , which agrees with summary stats interpretation.\n",
        "- Reality TV is the genre with the lowest amount of movies in IMDB"
      ],
      "metadata": {
        "id": "Gapra0nJS4wE"
      }
    },
    {
      "cell_type": "code",
      "source": [
        "# Distribution by histogram\n",
        "# Set the aesthetic style of the plots\n",
        "sns.set_style(\"darkgrid\")\n",
        "\n",
        "# Create the figure and the axes\n",
        "plt.figure(figsize=(20, 4))\n",
        "\n",
        "# Plot the distribution of age\n",
        "sns.histplot(IMDB_Movies_df['Genre'].dropna(), bins=130, kde=True, color='orange', label='Genre Distribution')\n",
        "\n",
        "# Add titles and labels\n",
        "plt.title('Genre Distribution', fontsize=14)\n",
        "plt.xlabel('Genre', fontsize=12)\n",
        "plt.ylabel('Frequency', fontsize=12)\n",
        "\n",
        "# Add a vertical line for the mean age\n",
        "mean_genre_count = class_counts.mean()\n",
        "\n",
        "# Add a legend\n",
        "plt.legend()\n",
        "\n",
        "# Show the plot\n",
        "plt.show()"
      ],
      "metadata": {
        "colab": {
          "base_uri": "https://localhost:8080/",
          "height": 286
        },
        "outputId": "9b75d629-be3e-4c1e-a64b-51d9c56145e5",
        "id": "NQiMaomi0IWZ"
      },
      "execution_count": 13,
      "outputs": [
        {
          "output_type": "display_data",
          "data": {
            "text/plain": [
              "<Figure size 2000x400 with 1 Axes>"
            ],
            "image/png": "[encoded data removed]"
          },
          "metadata": {}
        }
      ]
    },
    {
      "cell_type": "markdown",
      "source": [
        "<font color='Green'><h1><b>Interpretation of Genres for movies Histogram distribution<b></h1></font>"
      ],
      "metadata": {
        "id": "9OR33YGG2Xf9"
      }
    },
    {
      "cell_type": "markdown",
      "source": [
        "- Majority of the movies are based upon Biographies , which agrees with summary stats interpretation.\n",
        "- Reality TV is the genre with the lowest amount of movies in IMDB\n",
        "\n",
        "- Multimodal: The distribution has multiple  peaks, with the largest cluster arond Biography genre.\n",
        "\n",
        "- Right-Skewed (Positively Skewed): The tail on the right side is longer than the tail on the right side . Because the distribution is slightly skewed, the mean is likely pulled slightly higher than the median\n",
        "\n",
        "- Concentration around Biography genre: The peak of the distribution is around Biography genre, indicating that a large number of movies receive are Biography genre agreeing with summary stats."
      ],
      "metadata": {
        "id": "TKSl0tYd2Xf-"
      }
    },
    {
      "cell_type": "markdown",
      "source": [
        "<font color='56c3ea'><h1><b>3.2 Univariate Analysis: What do we know about IMDB ratings for movies?<b></h1></font>"
      ],
      "metadata": {
        "id": "eOVCUMblTwDt"
      }
    },
    {
      "cell_type": "code",
      "source": [
        "# Calculate percentages\n",
        "total_count = len(IMDB_Movies_df)\n",
        "class_counts = IMDB_Movies_df['IMDb Rating'].value_counts()\n",
        "percentages = (class_counts / total_count) * 100\n",
        "\n",
        "# Set the aesthetic style of the plots\n",
        "sns.set_style(\"darkgrid\")\n",
        "\n",
        "# Create the figure and the axes\n",
        "plt.figure(figsize=(24, 6))\n",
        "\n",
        "# Plot the genre distribution with diagonal labels\n",
        "ax = sns.countplot(x='IMDb Rating', data=IMDB_Movies_df, hue='IMDb Rating', palette='Set2', legend=False)\n",
        "plt.xticks(rotation=45, ha='right')\n",
        "\n",
        "# Add titles and labels\n",
        "plt.title('IMDb Rating Distribution For Movies', fontsize=14)\n",
        "plt.xlabel('IMDb Rating', fontsize=12)\n",
        "plt.ylabel('Count', fontsize=12)\n",
        "\n",
        "# Annotate the bars with the count of each category\n",
        "for p in ax.patches:\n",
        "    ax.annotate(f'{p.get_height()}', (p.get_x() + p.get_width() / 2., p.get_height()),\n",
        "                ha='center', va='center', fontsize=11, color='black', xytext=(0, 10),\n",
        "                textcoords='offset points')\n",
        "\n",
        "# Show the plot\n",
        "plt.show()"
      ],
      "metadata": {
        "colab": {
          "base_uri": "https://localhost:8080/",
          "height": 337
        },
        "id": "0T5O8naFVomV",
        "outputId": "f614f94d-2fb1-49be-e5b0-fcabb4143ec1"
      },
      "execution_count": 14,
      "outputs": [
        {
          "output_type": "display_data",
          "data": {
            "text/plain": [
              "<Figure size 2400x600 with 1 Axes>"
            ],
            "image/png": "[encoded data removed]"
          },
          "metadata": {}
        }
      ]
    },
    {
      "cell_type": "markdown",
      "source": [
        "<font color='Green'><h1><b>Interpretation of IMDB Ratings for movies distribution<b></h1></font>"
      ],
      "metadata": {
        "id": "_CmtfikhVjVa"
      }
    },
    {
      "cell_type": "markdown",
      "source": [
        "- The rating which appear in most movies in IMDB is 7 , which agrees to 6.9 average rating as shown in summary statistics\n",
        "- The highest rating for a movie in IMDB is 9.5 while lowest if 3.9 which agrees with the summary stastistics"
      ],
      "metadata": {
        "id": "90MMuDPxVjVb"
      }
    },
    {
      "cell_type": "code",
      "source": [
        "# Distribution by histogram\n",
        "# Set the aesthetic style of the plots\n",
        "sns.set_style(\"darkgrid\")\n",
        "\n",
        "# Create the figure and the axes\n",
        "plt.figure(figsize=(16, 4))\n",
        "\n",
        "# Plot the distribution of age\n",
        "sns.histplot(IMDB_Movies_df['IMDb Rating'].dropna(), bins=130, kde=True, color='orange')\n",
        "\n",
        "# Add titles and labels\n",
        "plt.title('IMDb Rating Distribution', fontsize=14)\n",
        "plt.xlabel('IMDb Rating', fontsize=12)\n",
        "plt.ylabel('Frequency', fontsize=12)\n",
        "\n",
        "# Add a vertical line for the mean age\n",
        "mean_IMDb_Rating = IMDB_Movies_df['IMDb Rating'].mean()\n",
        "plt.axvline(mean_IMDb_Rating, color='blue', linestyle='--', linewidth=1.5, label=f'Mean IMDb Rating: {mean_IMDb_Rating:.2f}')\n",
        "\n",
        "# Add a legend\n",
        "plt.legend()\n",
        "\n",
        "# Show the plot\n",
        "plt.show()"
      ],
      "metadata": {
        "id": "1obWYaVSaqH9"
      },
      "execution_count": null,
      "outputs": []
    },
    {
      "cell_type": "markdown",
      "source": [
        "<font color='Green'><h1><b>Interpretation of Rating Distribution by histogram<b></h1></font>"
      ],
      "metadata": {
        "id": "7yi7zwHIZnYQ"
      }
    },
    {
      "cell_type": "markdown",
      "source": [
        "- Unimodal: The distribution has a single peak, indicating that there's a central tendency around which the ratings are clustered.\n",
        "\n",
        "- Left-Skewed (Negatively Skewed): The tail on the left side (lower ratings) is longer than the tail on the right side (higher ratings). Because the distribution is slightly skewed, the mean (6.90) is likely pulled slightly lower than the median (the middle value)\n",
        "\n",
        "- This suggests that there are more movies with ratings slightly below the mean than movies with ratings significantly above the mean.\n",
        "\n",
        "- Concentration around 7: The peak of the distribution is around 7, indicating that a large number of movies receive ratings in this range.\n",
        "\n",
        "- Range: The ratings range from approximately 4 to 9, suggesting a fairly broad spectrum of movie quality represented in the dataset."
      ],
      "metadata": {
        "id": "nmlj9tdRcWXo"
      }
    },
    {
      "cell_type": "markdown",
      "source": [
        "<font color='56c3ea'><h1><b>3.3 Bivariate/Multivariate Analysis: How are different genres rated by the users?<b></h1></font>"
      ],
      "metadata": {
        "id": "kK6_WcUFWUTW"
      }
    },
    {
      "cell_type": "code",
      "source": [
        "# Group data by genre and calculate movie count and average rating\n",
        "genre_stats = IMDB_Movies_df.groupby('Genre', observed=False).agg(\n",
        "    movie_count=('Title', 'count'),  # Calculate the count of movies for each genre\n",
        "    avg_rating=('IMDb Rating', 'mean')  # Calculate the average IMDb rating for each genre\n",
        ").reset_index()  # Reset index to make 'Genre' a regular column\n",
        "\n",
        "# Create an interactive scatter plot using plotly.express\n",
        "fig = px.scatter(genre_stats,\n",
        "                 x='movie_count',  # Set 'movie_count' as the x-axis\n",
        "                 y='avg_rating',  # Set 'avg_rating' as the y-axis\n",
        "                 color='Genre',  # Color points based on 'Genre'\n",
        "                 hover_data=['Genre'],  # Display 'Genre' in tooltip on hover\n",
        "                 title='Movie Count vs. Average IMDb Rating by Genre')  # Set plot title\n",
        "\n",
        "# Display the interactive plot\n",
        "fig.show()"
      ],
      "metadata": {
        "id": "X6rUUAiNVovF"
      },
      "execution_count": null,
      "outputs": []
    },
    {
      "cell_type": "markdown",
      "source": [
        "<font color='Green'><h1><b>Interpretation of Movie Count againsts Ratings by Genre<b></h1></font>"
      ],
      "metadata": {
        "id": "ckI6TY0AY4yb"
      }
    },
    {
      "cell_type": "markdown",
      "source": [
        "- The genre with highest average rating is Documentary\n",
        "- The genre with lowest average rating is Family\n",
        "- Biography has the maximum movie count but does not have the highest avg rating\n",
        "- Reality-TV has the lowest movie count but its average rating is second highest"
      ],
      "metadata": {
        "id": "Ku9yKo7kY4yc"
      }
    },
    {
      "cell_type": "markdown",
      "source": [
        "<font color='56c3ea'><h1><b>3.4 Keyword trends: Whats the distribution of keywords over the years<b></h1></font>"
      ],
      "metadata": {
        "id": "BblJvILweBE_"
      }
    },
    {
      "cell_type": "markdown",
      "source": [
        "- Extracting keywords from IMDB dataset and track their trends over time based on the tittle of the movie"
      ],
      "metadata": {
        "id": "lrAzL7Z9eiC5"
      }
    },
    {
      "cell_type": "code",
      "source": [
        "import pandas as pd\n",
        "import matplotlib.pyplot as plt\n",
        "from sklearn.feature_extraction.text import TfidfVectorizer\n",
        "from wordcloud import WordCloud\n",
        "\n",
        "# Data preparation\n",
        "IMDB_Movies_df.dropna(subset=['Year', 'Title'], inplace=True)  # Remove rows with missing year/title\n",
        "IMDB_Movies_df['Year'] = IMDB_Movies_df['Year'].astype(int)  # Convert year to integer\n",
        "text_data = IMDB_Movies_df['Title'].str.lower()  # Convert titles to lowercase\n",
        "\n",
        "# Keyword extraction using TF-IDF\n",
        "vectorizer = TfidfVectorizer(stop_words='english', ngram_range=(1, 2))  # Unigrams & Bigrams\n",
        "tfidf_matrix = vectorizer.fit_transform(text_data)\n",
        "feature_names = vectorizer.get_feature_names_out()\n",
        "\n",
        "# Trend Analysis for yearly trends\n",
        "yearly_trends = {}\n",
        "for year in sorted(IMDB_Movies_df['Year'].unique()):  # Sort years for chronological order\n",
        "    year_data = IMDB_Movies_df[IMDB_Movies_df['Year'] == year]['Title'].str.lower()\n",
        "    if not year_data.empty:\n",
        "        year_tfidf = vectorizer.transform(year_data)\n",
        "        yearly_trends[year] = year_tfidf.sum(axis=0).A1  # Get keyword frequencies for the year\n",
        "\n",
        "# Convert to DataFrame for easier analysis\n",
        "trends_df = pd.DataFrame(yearly_trends, index=feature_names).T\n",
        "\n",
        "# Select top keywords (e.g., those appearing frequently across years)\n",
        "top_keywords = trends_df.sum().sort_values(ascending=False).head(10).index.tolist()\n",
        "trends_df_filtered = trends_df[top_keywords]\n",
        "\n",
        "# Plot keyword trends over time\n",
        "plt.figure(figsize=(12, 6))\n",
        "trends_df_filtered.plot(kind='line', marker='o', figsize=(12, 6), colormap='tab10')\n",
        "plt.xlabel(\"Year\")\n",
        "plt.ylabel(\"Keyword Frequency\")\n",
        "plt.title(\"Keyword Trends Over Time in IMDb Movie Titles\")\n",
        "plt.legend(title=\"Keywords\", bbox_to_anchor=(1.05, 1), loc='upper left')\n",
        "plt.grid()\n",
        "plt.show()"
      ],
      "metadata": {
        "id": "CVZbj0KPeOpq"
      },
      "execution_count": null,
      "outputs": []
    },
    {
      "cell_type": "code",
      "source": [
        "# Generate a word cloud for most common keywords\n",
        "wordcloud = WordCloud(width=800, height=400, background_color=\"black\").generate_from_frequencies(trends_df.sum())\n",
        "\n",
        "plt.figure(figsize=(10, 5))\n",
        "plt.imshow(wordcloud, interpolation=\"bilinear\")\n",
        "plt.axis(\"off\")\n",
        "plt.title(\"Most Common Keywords in IMDb Titles\")\n",
        "plt.show()"
      ],
      "metadata": {
        "id": "YwmOguFShnN5"
      },
      "execution_count": null,
      "outputs": []
    },
    {
      "cell_type": "markdown",
      "source": [
        "<font color='Green'><h1><b>Interpretation of Keyword Trends over time<b></h1></font>"
      ],
      "metadata": {
        "id": "c-ZSZjlY4WNq"
      }
    },
    {
      "cell_type": "markdown",
      "source": [
        "- From keyword trend analysis above the word which stand out the most is story ,black , king , american and man all these words show spike around the year 2020.\n",
        "\n",
        "- This is contributed by the recent social and political themes."
      ],
      "metadata": {
        "id": "9UZRw6Fp4WNq"
      }
    },
    {
      "cell_type": "markdown",
      "source": [
        "<font color='56c3ea'><h1><b>4 Data Preprocessing & Feature Engineering<b></h1></font>"
      ],
      "metadata": {
        "id": "doKn0jcHKUCg"
      }
    },
    {
      "cell_type": "markdown",
      "source": [
        "<font color='56c3ea'><h1><b>4.1 Treating Missing Values<b></h1></font>"
      ],
      "metadata": {
        "id": "fPSBOloqxJL3"
      }
    },
    {
      "cell_type": "code",
      "source": [
        "## Dropping Columns with Many Missing Values\n",
        "# RULE OF THUMB\n",
        "# if missing values count is > 70% of the data delete the attribute\n",
        "\n",
        "def get_columns_to_drop(data, threshold=70):\n",
        "  \"\"\"Identifies columns with more than a specified percentage of missing values.\n",
        "\n",
        "  Args:\n",
        "    data: The input Pandas DataFrame.\n",
        "    threshold: The percentage threshold for missing values (default is 70).\n",
        "\n",
        "  Returns:\n",
        "    A list of column names to drop.\n",
        "  \"\"\"\n",
        "\n",
        "  # Calculate missing values percentage for each column\n",
        "  missing_values_percentage = (data.isnull().sum() / len(data)) * 100\n",
        "\n",
        "  # Filter columns exceeding the threshold\n",
        "  columns_to_drop = missing_values_percentage[missing_values_percentage > threshold].index.tolist()\n",
        "\n",
        "  # Return columns\n",
        "  if len(columns_to_drop) > 0:\n",
        "    return columns_to_drop\n",
        "\n",
        "  return f'All columns exceeds The percentage threshold({threshold}%) for missing values, no column to drop'"
      ],
      "metadata": {
        "id": "ls6Av2jzxprY"
      },
      "execution_count": 19,
      "outputs": []
    },
    {
      "cell_type": "code",
      "source": [
        "# call function to analyse columns to drop\n",
        "columns_to_drop = get_columns_to_drop(IMDB_Movies_df)\n",
        "print(columns_to_drop)"
      ],
      "metadata": {
        "id": "BEApInVPxpuf"
      },
      "execution_count": null,
      "outputs": []
    },
    {
      "cell_type": "markdown",
      "source": [
        "<font color='Green'><h1><b>Observations/Key Insight<b></h1></font>\n",
        "\n"
      ],
      "metadata": {
        "id": "dm4FLR64-7T7"
      }
    },
    {
      "cell_type": "markdown",
      "source": [
        "<p>No missing values found , because All columns exceeds The percentage threshold(70%) for missing values, no column to drop."
      ],
      "metadata": {
        "id": "b9t5u-gm9vvO"
      }
    },
    {
      "cell_type": "markdown",
      "source": [
        "<font color='56c3ea'><h1><b>4.2 Dropping unnecessary columns<b></h1></font>"
      ],
      "metadata": {
        "id": "XwhmLClHxOJV"
      }
    },
    {
      "cell_type": "markdown",
      "source": [
        "- For the AI Assistant that we are building , Poster-src column will not be needed because it doesnt contribute much to the insights to be given to the users, so its going to be dropped"
      ],
      "metadata": {
        "id": "OfWNJdVRFxcj"
      }
    },
    {
      "cell_type": "code",
      "source": [
        "## Drop the above columns\n",
        "## Due to above reasons, below columns are going to be dropped\n",
        "print(f'Columsn before dropping {IMDB_Movies_df.shape[1]}\\n')\n",
        "\n",
        "unnecessary_columns = ['Poster-src']\n",
        "IMDB_Movies_df = IMDB_Movies_df.drop(columns=unnecessary_columns)\n",
        "\n",
        "print(f'\\nColumsn after dropping {IMDB_Movies_df.shape[1]}')"
      ],
      "metadata": {
        "colab": {
          "base_uri": "https://localhost:8080/"
        },
        "id": "PgLvLJOuxp6N",
        "outputId": "5ede52d8-d6dd-4351-ac8e-059a6d30fcdd"
      },
      "execution_count": 21,
      "outputs": [
        {
          "output_type": "stream",
          "name": "stdout",
          "text": [
            "Columsn before dropping 10\n",
            "\n",
            "\n",
            "Columsn after dropping 9\n"
          ]
        }
      ]
    },
    {
      "cell_type": "code",
      "source": [
        "# Verifying columns\n",
        "IMDB_Movies_df.head()"
      ],
      "metadata": {
        "colab": {
          "base_uri": "https://localhost:8080/",
          "height": 293
        },
        "id": "ditaakVCxqQP",
        "outputId": "4a78ada5-5457-4da7-88ab-75ab91440447"
      },
      "execution_count": 22,
      "outputs": [
        {
          "output_type": "execute_result",
          "data": {
            "text/plain": [
              "                          Title  IMDb Rating  Year Certificates        Genre  \\\n",
              "0              End of the Spear          6.8  2005        PG-13    Adventure   \n",
              "1                Elvira Madigan          7.0  1967           PG    Biography   \n",
              "2  The Kid Stays in the Picture          7.3  2002            R  Documentary   \n",
              "3                 It Ain't Over          8.2  2022           PG  Documentary   \n",
              "4                        Mahler          7.0  1974           PG    Biography   \n",
              "\n",
              "           Director                                   Star Cast  MetaScore  \\\n",
              "0         Jim Hanon         Louie LeonardoChad AllenJack Guzman       45.0   \n",
              "1      Bo Widerberg  Pia DegermarkThommy BerggrenLennart Malmer       66.0   \n",
              "2  Nanette Burstein          Robert EvansEddie AlbertPeter Bart       75.0   \n",
              "3       Sean Mullin          Andy AndresRoger AngellMarty Appel       79.0   \n",
              "4       Ken Russell      Robert PowellGeorgina HaleLee Montague       66.0   \n",
              "\n",
              "   Duration (minutes)  \n",
              "0               108.0  \n",
              "1                91.0  \n",
              "2                93.0  \n",
              "3                99.0  \n",
              "4               115.0  "
            ],
            "text/html": [
              "\n",
              "  <div id=\"df-5eab9545-e47a-48e6-bdd9-08a14fa87d57\" class=\"colab-df-container\">\n",
              "    <div>\n",
              "<style scoped>\n",
              "    .dataframe tbody tr th:only-of-type {\n",
              "        vertical-align: middle;\n",
              "    }\n",
              "\n",
              "    .dataframe tbody tr th {\n",
              "        vertical-align: top;\n",
              "    }\n",
              "\n",
              "    .dataframe thead th {\n",
              "        text-align: right;\n",
              "    }\n",
              "</style>\n",
              "<table border=\"1\" class=\"dataframe\">\n",
              "  <thead>\n",
              "    <tr style=\"text-align: right;\">\n",
              "      <th></th>\n",
              "      <th>Title</th>\n",
              "      <th>IMDb Rating</th>\n",
              "      <th>Year</th>\n",
              "      <th>Certificates</th>\n",
              "      <th>Genre</th>\n",
              "      <th>Director</th>\n",
              "      <th>Star Cast</th>\n",
              "      <th>MetaScore</th>\n",
              "      <th>Duration (minutes)</th>\n",
              "    </tr>\n",
              "  </thead>\n",
              "  <tbody>\n",
              "    <tr>\n",
              "      <th>0</th>\n",
              "      <td>End of the Spear</td>\n",
              "      <td>6.8</td>\n",
              "      <td>2005</td>\n",
              "      <td>PG-13</td>\n",
              "      <td>Adventure</td>\n",
              "      <td>Jim Hanon</td>\n",
              "      <td>Louie LeonardoChad AllenJack Guzman</td>\n",
              "      <td>45.0</td>\n",
              "      <td>108.0</td>\n",
              "    </tr>\n",
              "    <tr>\n",
              "      <th>1</th>\n",
              "      <td>Elvira Madigan</td>\n",
              "      <td>7.0</td>\n",
              "      <td>1967</td>\n",
              "      <td>PG</td>\n",
              "      <td>Biography</td>\n",
              "      <td>Bo Widerberg</td>\n",
              "      <td>Pia DegermarkThommy BerggrenLennart Malmer</td>\n",
              "      <td>66.0</td>\n",
              "      <td>91.0</td>\n",
              "    </tr>\n",
              "    <tr>\n",
              "      <th>2</th>\n",
              "      <td>The Kid Stays in the Picture</td>\n",
              "      <td>7.3</td>\n",
              "      <td>2002</td>\n",
              "      <td>R</td>\n",
              "      <td>Documentary</td>\n",
              "      <td>Nanette Burstein</td>\n",
              "      <td>Robert EvansEddie AlbertPeter Bart</td>\n",
              "      <td>75.0</td>\n",
              "      <td>93.0</td>\n",
              "    </tr>\n",
              "    <tr>\n",
              "      <th>3</th>\n",
              "      <td>It Ain't Over</td>\n",
              "      <td>8.2</td>\n",
              "      <td>2022</td>\n",
              "      <td>PG</td>\n",
              "      <td>Documentary</td>\n",
              "      <td>Sean Mullin</td>\n",
              "      <td>Andy AndresRoger AngellMarty Appel</td>\n",
              "      <td>79.0</td>\n",
              "      <td>99.0</td>\n",
              "    </tr>\n",
              "    <tr>\n",
              "      <th>4</th>\n",
              "      <td>Mahler</td>\n",
              "      <td>7.0</td>\n",
              "      <td>1974</td>\n",
              "      <td>PG</td>\n",
              "      <td>Biography</td>\n",
              "      <td>Ken Russell</td>\n",
              "      <td>Robert PowellGeorgina HaleLee Montague</td>\n",
              "      <td>66.0</td>\n",
              "      <td>115.0</td>\n",
              "    </tr>\n",
              "  </tbody>\n",
              "</table>\n",
              "</div>\n",
              "    <div class=\"colab-df-buttons\">\n",
              "\n",
              "  <div class=\"colab-df-container\">\n",
              "    <button class=\"colab-df-convert\" onclick=\"convertToInteractive('df-5eab9545-e47a-48e6-bdd9-08a14fa87d57')\"\n",
              "            title=\"Convert this dataframe to an interactive table.\"\n",
              "            style=\"display:none;\">\n",
              "\n",
              "  <svg xmlns=\"http://www.w3.org/2000/svg\" height=\"24px\" viewBox=\"0 -960 960 960\">\n",
              "    <path d=\"M120-120v-720h720v720H120Zm60-500h600v-160H180v160Zm220 220h160v-160H400v160Zm0 220h160v-160H400v160ZM180-400h160v-160H180v160Zm440 0h160v-160H620v160ZM180-180h160v-160H180v160Zm440 0h160v-160H620v160Z\"/>\n",
              "  </svg>\n",
              "    </button>\n",
              "\n",
              "  <style>\n",
              "    .colab-df-container {\n",
              "      display:flex;\n",
              "      gap: 12px;\n",
              "    }\n",
              "\n",
              "    .colab-df-convert {\n",
              "      background-color: #E8F0FE;\n",
              "      border: none;\n",
              "      border-radius: 50%;\n",
              "      cursor: pointer;\n",
              "      display: none;\n",
              "      fill: #1967D2;\n",
              "      height: 32px;\n",
              "      padding: 0 0 0 0;\n",
              "      width: 32px;\n",
              "    }\n",
              "\n",
              "    .colab-df-convert:hover {\n",
              "      background-color: #E2EBFA;\n",
              "      box-shadow: 0px 1px 2px rgba(60, 64, 67, 0.3), 0px 1px 3px 1px rgba(60, 64, 67, 0.15);\n",
              "      fill: #174EA6;\n",
              "    }\n",
              "\n",
              "    .colab-df-buttons div {\n",
              "      margin-bottom: 4px;\n",
              "    }\n",
              "\n",
              "    [theme=dark] .colab-df-convert {\n",
              "      background-color: #3B4455;\n",
              "      fill: #D2E3FC;\n",
              "    }\n",
              "\n",
              "    [theme=dark] .colab-df-convert:hover {\n",
              "      background-color: #434B5C;\n",
              "      box-shadow: 0px 1px 3px 1px rgba(0, 0, 0, 0.15);\n",
              "      filter: drop-shadow(0px 1px 2px rgba(0, 0, 0, 0.3));\n",
              "      fill: #FFFFFF;\n",
              "    }\n",
              "  </style>\n",
              "\n",
              "    <script>\n",
              "      const buttonEl =\n",
              "        document.querySelector('#df-5eab9545-e47a-48e6-bdd9-08a14fa87d57 button.colab-df-convert');\n",
              "      buttonEl.style.display =\n",
              "        google.colab.kernel.accessAllowed ? 'block' : 'none';\n",
              "\n",
              "      async function convertToInteractive(key) {\n",
              "        const element = document.querySelector('#df-5eab9545-e47a-48e6-bdd9-08a14fa87d57');\n",
              "        const dataTable =\n",
              "          await google.colab.kernel.invokeFunction('convertToInteractive',\n",
              "                                                    [key], {});\n",
              "        if (!dataTable) return;\n",
              "\n",
              "        const docLinkHtml = 'Like what you see? Visit the ' +\n",
              "          '<a target=\"_blank\" href=https://colab.research.google.com/notebooks/data_table.ipynb>data table notebook</a>'\n",
              "          + ' to learn more about interactive tables.';\n",
              "        element.innerHTML = '';\n",
              "        dataTable['output_type'] = 'display_data';\n",
              "        await google.colab.output.renderOutput(dataTable, element);\n",
              "        const docLink = document.createElement('div');\n",
              "        docLink.innerHTML = docLinkHtml;\n",
              "        element.appendChild(docLink);\n",
              "      }\n",
              "    </script>\n",
              "  </div>\n",
              "\n",
              "\n",
              "    <div id=\"df-4167ca78-deb3-46bb-acc9-8a8466b61288\">\n",
              "      <button class=\"colab-df-quickchart\" onclick=\"quickchart('df-4167ca78-deb3-46bb-acc9-8a8466b61288')\"\n",
              "                title=\"Suggest charts\"\n",
              "                style=\"display:none;\">\n",
              "\n",
              "<svg xmlns=\"http://www.w3.org/2000/svg\" height=\"24px\"viewBox=\"0 0 24 24\"\n",
              "     width=\"24px\">\n",
              "    <g>\n",
              "        <path d=\"M19 3H5c-1.1 0-2 .9-2 2v14c0 1.1.9 2 2 2h14c1.1 0 2-.9 2-2V5c0-1.1-.9-2-2-2zM9 17H7v-7h2v7zm4 0h-2V7h2v10zm4 0h-2v-4h2v4z\"/>\n",
              "    </g>\n",
              "</svg>\n",
              "      </button>\n",
              "\n",
              "<style>\n",
              "  .colab-df-quickchart {\n",
              "      --bg-color: #E8F0FE;\n",
              "      --fill-color: #1967D2;\n",
              "      --hover-bg-color: #E2EBFA;\n",
              "      --hover-fill-color: #174EA6;\n",
              "      --disabled-fill-color: #AAA;\n",
              "      --disabled-bg-color: #DDD;\n",
              "  }\n",
              "\n",
              "  [theme=dark] .colab-df-quickchart {\n",
              "      --bg-color: #3B4455;\n",
              "      --fill-color: #D2E3FC;\n",
              "      --hover-bg-color: #434B5C;\n",
              "      --hover-fill-color: #FFFFFF;\n",
              "      --disabled-bg-color: #3B4455;\n",
              "      --disabled-fill-color: #666;\n",
              "  }\n",
              "\n",
              "  .colab-df-quickchart {\n",
              "    background-color: var(--bg-color);\n",
              "    border: none;\n",
              "    border-radius: 50%;\n",
              "    cursor: pointer;\n",
              "    display: none;\n",
              "    fill: var(--fill-color);\n",
              "    height: 32px;\n",
              "    padding: 0;\n",
              "    width: 32px;\n",
              "  }\n",
              "\n",
              "  .colab-df-quickchart:hover {\n",
              "    background-color: var(--hover-bg-color);\n",
              "    box-shadow: 0 1px 2px rgba(60, 64, 67, 0.3), 0 1px 3px 1px rgba(60, 64, 67, 0.15);\n",
              "    fill: var(--button-hover-fill-color);\n",
              "  }\n",
              "\n",
              "  .colab-df-quickchart-complete:disabled,\n",
              "  .colab-df-quickchart-complete:disabled:hover {\n",
              "    background-color: var(--disabled-bg-color);\n",
              "    fill: var(--disabled-fill-color);\n",
              "    box-shadow: none;\n",
              "  }\n",
              "\n",
              "  .colab-df-spinner {\n",
              "    border: 2px solid var(--fill-color);\n",
              "    border-color: transparent;\n",
              "    border-bottom-color: var(--fill-color);\n",
              "    animation:\n",
              "      spin 1s steps(1) infinite;\n",
              "  }\n",
              "\n",
              "  @keyframes spin {\n",
              "    0% {\n",
              "      border-color: transparent;\n",
              "      border-bottom-color: var(--fill-color);\n",
              "      border-left-color: var(--fill-color);\n",
              "    }\n",
              "    20% {\n",
              "      border-color: transparent;\n",
              "      border-left-color: var(--fill-color);\n",
              "      border-top-color: var(--fill-color);\n",
              "    }\n",
              "    30% {\n",
              "      border-color: transparent;\n",
              "      border-left-color: var(--fill-color);\n",
              "      border-top-color: var(--fill-color);\n",
              "      border-right-color: var(--fill-color);\n",
              "    }\n",
              "    40% {\n",
              "      border-color: transparent;\n",
              "      border-right-color: var(--fill-color);\n",
              "      border-top-color: var(--fill-color);\n",
              "    }\n",
              "    60% {\n",
              "      border-color: transparent;\n",
              "      border-right-color: var(--fill-color);\n",
              "    }\n",
              "    80% {\n",
              "      border-color: transparent;\n",
              "      border-right-color: var(--fill-color);\n",
              "      border-bottom-color: var(--fill-color);\n",
              "    }\n",
              "    90% {\n",
              "      border-color: transparent;\n",
              "      border-bottom-color: var(--fill-color);\n",
              "    }\n",
              "  }\n",
              "</style>\n",
              "\n",
              "      <script>\n",
              "        async function quickchart(key) {\n",
              "          const quickchartButtonEl =\n",
              "            document.querySelector('#' + key + ' button');\n",
              "          quickchartButtonEl.disabled = true;  // To prevent multiple clicks.\n",
              "          quickchartButtonEl.classList.add('colab-df-spinner');\n",
              "          try {\n",
              "            const charts = await google.colab.kernel.invokeFunction(\n",
              "                'suggestCharts', [key], {});\n",
              "          } catch (error) {\n",
              "            console.error('Error during call to suggestCharts:', error);\n",
              "          }\n",
              "          quickchartButtonEl.classList.remove('colab-df-spinner');\n",
              "          quickchartButtonEl.classList.add('colab-df-quickchart-complete');\n",
              "        }\n",
              "        (() => {\n",
              "          let quickchartButtonEl =\n",
              "            document.querySelector('#df-4167ca78-deb3-46bb-acc9-8a8466b61288 button');\n",
              "          quickchartButtonEl.style.display =\n",
              "            google.colab.kernel.accessAllowed ? 'block' : 'none';\n",
              "        })();\n",
              "      </script>\n",
              "    </div>\n",
              "\n",
              "    </div>\n",
              "  </div>\n"
            ],
            "application/vnd.google.colaboratory.intrinsic+json": {
              "type": "dataframe",
              "variable_name": "IMDB_Movies_df",
              "summary": "{\n  \"name\": \"IMDB_Movies_df\",\n  \"rows\": 3173,\n  \"fields\": [\n    {\n      \"column\": \"Title\",\n      \"properties\": {\n        \"dtype\": \"string\",\n        \"num_unique_values\": 2739,\n        \"samples\": [\n          \"The Walk\",\n          \"Welcome to Marwen\",\n          \"The Place Where the Last Man Died\"\n        ],\n        \"semantic_type\": \"\",\n        \"description\": \"\"\n      }\n    },\n    {\n      \"column\": \"IMDb Rating\",\n      \"properties\": {\n        \"dtype\": \"number\",\n        \"std\": 0.8052022790214918,\n        \"min\": 3.9,\n        \"max\": 9.5,\n        \"num_unique_values\": 48,\n        \"samples\": [\n          8.7,\n          5.3,\n          8.5\n        ],\n        \"semantic_type\": \"\",\n        \"description\": \"\"\n      }\n    },\n    {\n      \"column\": \"Year\",\n      \"properties\": {\n        \"dtype\": \"number\",\n        \"std\": 16,\n        \"min\": 1917,\n        \"max\": 2025,\n        \"num_unique_values\": 93,\n        \"samples\": [\n          1998,\n          1988,\n          1982\n        ],\n        \"semantic_type\": \"\",\n        \"description\": \"\"\n      }\n    },\n    {\n      \"column\": \"Certificates\",\n      \"properties\": {\n        \"dtype\": \"category\",\n        \"num_unique_values\": 16,\n        \"samples\": [\n          \"PG-13\",\n          \"PG\",\n          \"Approved\"\n        ],\n        \"semantic_type\": \"\",\n        \"description\": \"\"\n      }\n    },\n    {\n      \"column\": \"Genre\",\n      \"properties\": {\n        \"dtype\": \"category\",\n        \"num_unique_values\": 17,\n        \"samples\": [\n          \"Adventure\",\n          \"Biography\",\n          \"Drama\"\n        ],\n        \"semantic_type\": \"\",\n        \"description\": \"\"\n      }\n    },\n    {\n      \"column\": \"Director\",\n      \"properties\": {\n        \"dtype\": \"string\",\n        \"num_unique_values\": 2089,\n        \"samples\": [\n          \"Matt Johnson\",\n          \"Theresa Labreglio\",\n          \"John Lee Hancock\"\n        ],\n        \"semantic_type\": \"\",\n        \"description\": \"\"\n      }\n    },\n    {\n      \"column\": \"Star Cast\",\n      \"properties\": {\n        \"dtype\": \"string\",\n        \"num_unique_values\": 2592,\n        \"samples\": [\n          \"John WooKhan ChanCheng Kuo\",\n          \"Jonathan PryceJames WilbyJonny Lee Miller\",\n          \"Lorne CameronDavid HoseltonWilliam Nicholson\"\n        ],\n        \"semantic_type\": \"\",\n        \"description\": \"\"\n      }\n    },\n    {\n      \"column\": \"MetaScore\",\n      \"properties\": {\n        \"dtype\": \"number\",\n        \"std\": 11.358619498209181,\n        \"min\": 20.0,\n        \"max\": 100.0,\n        \"num_unique_values\": 78,\n        \"samples\": [\n          92.0,\n          45.0,\n          72.0\n        ],\n        \"semantic_type\": \"\",\n        \"description\": \"\"\n      }\n    },\n    {\n      \"column\": \"Duration (minutes)\",\n      \"properties\": {\n        \"dtype\": \"number\",\n        \"std\": 22.12303194219495,\n        \"min\": 46.0,\n        \"max\": 317.0,\n        \"num_unique_values\": 156,\n        \"samples\": [\n          197.0,\n          142.0,\n          219.0\n        ],\n        \"semantic_type\": \"\",\n        \"description\": \"\"\n      }\n    }\n  ]\n}"
            }
          },
          "metadata": {},
          "execution_count": 22
        }
      ]
    },
    {
      "cell_type": "markdown",
      "source": [
        "<font color='Green'><h1><b>Observations from Removing unnecessaty columns<b></h1></font>"
      ],
      "metadata": {
        "id": "WLVj_dhR4Kxw"
      }
    },
    {
      "cell_type": "markdown",
      "source": [
        "Poster-src got dropped successfully"
      ],
      "metadata": {
        "id": "XZFeQemMHUk-"
      }
    },
    {
      "cell_type": "markdown",
      "source": [
        "<font color='56c3ea'><h1><b>4.3 Data type conversion<b></h1></font>"
      ],
      "metadata": {
        "id": "n3R3PmBkxOS-"
      }
    },
    {
      "cell_type": "markdown",
      "source": [
        "For memory optimization and better performance columns of datatype objects will be converted to caregorical data types"
      ],
      "metadata": {
        "id": "tycO0o6uIRGn"
      }
    },
    {
      "cell_type": "code",
      "source": [
        "# checking dataframe structure\n",
        "IMDB_Movies_df.info()"
      ],
      "metadata": {
        "colab": {
          "base_uri": "https://localhost:8080/"
        },
        "id": "jAESs4TwHq9V",
        "outputId": "2bd8b962-2688-4169-e717-e2d1a66bbbc1"
      },
      "execution_count": 23,
      "outputs": [
        {
          "output_type": "stream",
          "name": "stdout",
          "text": [
            "<class 'pandas.core.frame.DataFrame'>\n",
            "RangeIndex: 3173 entries, 0 to 3172\n",
            "Data columns (total 9 columns):\n",
            " #   Column              Non-Null Count  Dtype  \n",
            "---  ------              --------------  -----  \n",
            " 0   Title               3173 non-null   object \n",
            " 1   IMDb Rating         3173 non-null   float64\n",
            " 2   Year                3173 non-null   int64  \n",
            " 3   Certificates        3173 non-null   object \n",
            " 4   Genre               3173 non-null   object \n",
            " 5   Director            3173 non-null   object \n",
            " 6   Star Cast           3173 non-null   object \n",
            " 7   MetaScore           3173 non-null   float64\n",
            " 8   Duration (minutes)  3173 non-null   float64\n",
            "dtypes: float64(3), int64(1), object(5)\n",
            "memory usage: 223.2+ KB\n"
          ]
        }
      ]
    },
    {
      "cell_type": "code",
      "source": [
        "# identifying object columns\n",
        "object_columns = IMDB_Movies_df.select_dtypes(include='object').columns.tolist()\n",
        "print(object_columns)"
      ],
      "metadata": {
        "colab": {
          "base_uri": "https://localhost:8080/"
        },
        "id": "hHN1Z88eH1F0",
        "outputId": "735c85cc-87b9-4d06-bb15-962a171f4c8b"
      },
      "execution_count": 24,
      "outputs": [
        {
          "output_type": "stream",
          "name": "stdout",
          "text": [
            "['Title', 'Certificates', 'Genre', 'Director', 'Star Cast']\n"
          ]
        }
      ]
    },
    {
      "cell_type": "code",
      "source": [
        "# converting object clumns to categorical\n",
        "object_columns = IMDB_Movies_df.select_dtypes(include='object').columns.tolist()\n",
        "\n",
        "# convert object_columns to categorical\n",
        "IMDB_Movies_df[object_columns] = IMDB_Movies_df[object_columns].astype('category')"
      ],
      "metadata": {
        "id": "fDjfQcRZIBy0"
      },
      "execution_count": 25,
      "outputs": []
    },
    {
      "cell_type": "code",
      "source": [
        "# checking for newly converted datatypes\n",
        "IMDB_Movies_df.info()"
      ],
      "metadata": {
        "colab": {
          "base_uri": "https://localhost:8080/"
        },
        "id": "IS71bwdbIrzN",
        "outputId": "13e51a59-8dc4-439c-8bf0-d61bfb49f405"
      },
      "execution_count": 26,
      "outputs": [
        {
          "output_type": "stream",
          "name": "stdout",
          "text": [
            "<class 'pandas.core.frame.DataFrame'>\n",
            "RangeIndex: 3173 entries, 0 to 3172\n",
            "Data columns (total 9 columns):\n",
            " #   Column              Non-Null Count  Dtype   \n",
            "---  ------              --------------  -----   \n",
            " 0   Title               3173 non-null   category\n",
            " 1   IMDb Rating         3173 non-null   float64 \n",
            " 2   Year                3173 non-null   int64   \n",
            " 3   Certificates        3173 non-null   category\n",
            " 4   Genre               3173 non-null   category\n",
            " 5   Director            3173 non-null   category\n",
            " 6   Star Cast           3173 non-null   category\n",
            " 7   MetaScore           3173 non-null   float64 \n",
            " 8   Duration (minutes)  3173 non-null   float64 \n",
            "dtypes: category(5), float64(3), int64(1)\n",
            "memory usage: 377.0 KB\n"
          ]
        }
      ]
    },
    {
      "cell_type": "markdown",
      "source": [
        "<font color='56c3ea'><h1><b>4.4 Removing Duplicates<b></h1></font>"
      ],
      "metadata": {
        "id": "s3dsG23JxOcs"
      }
    },
    {
      "cell_type": "code",
      "source": [
        "# Check for duplicates\n",
        "IMDB_Movies_df_duplicates = IMDB_Movies_df.duplicated().sum()\n",
        "print(f\"Number of duplicate rows: {IMDB_Movies_df_duplicates}\")"
      ],
      "metadata": {
        "colab": {
          "base_uri": "https://localhost:8080/"
        },
        "id": "7eAfmlkKJL2o",
        "outputId": "071facb0-b147-41a8-a021-a331c07f4f27"
      },
      "execution_count": 27,
      "outputs": [
        {
          "output_type": "stream",
          "name": "stdout",
          "text": [
            "Number of duplicate rows: 411\n"
          ]
        }
      ]
    },
    {
      "cell_type": "code",
      "source": [
        "print(f\"Rows before removing duplicates {IMDB_Movies_df.shape[0]}\")"
      ],
      "metadata": {
        "colab": {
          "base_uri": "https://localhost:8080/"
        },
        "id": "greoJTdIJaXU",
        "outputId": "acebc6bf-9fed-48e6-b2d3-412bf94541f5"
      },
      "execution_count": 28,
      "outputs": [
        {
          "output_type": "stream",
          "name": "stdout",
          "text": [
            "Rows before removing duplicates 3173\n"
          ]
        }
      ]
    },
    {
      "cell_type": "code",
      "source": [
        "# found 411 duplicates , removing them\n",
        "IMDB_Movies_df = IMDB_Movies_df.drop_duplicates()"
      ],
      "metadata": {
        "id": "YfIauji1Jrdf"
      },
      "execution_count": 29,
      "outputs": []
    },
    {
      "cell_type": "code",
      "source": [
        "print(f\"Rows After removing duplicates {IMDB_Movies_df.shape[0]}\")"
      ],
      "metadata": {
        "outputId": "68945ec3-33cc-466d-e497-08190ef97e55",
        "colab": {
          "base_uri": "https://localhost:8080/"
        },
        "id": "HX844aW7JpRV"
      },
      "execution_count": 30,
      "outputs": [
        {
          "output_type": "stream",
          "name": "stdout",
          "text": [
            "Rows After removing duplicates 2762\n"
          ]
        }
      ]
    },
    {
      "cell_type": "markdown",
      "source": [
        "<font color='Green'><h1><b>Observations for Duplicates<b></h1></font>"
      ],
      "metadata": {
        "id": "cI53rNrPnc4h"
      }
    },
    {
      "cell_type": "markdown",
      "source": [
        "411 Duplicate rows have been removed from the datasets , remaining with 2762 total rows as shown above"
      ],
      "metadata": {
        "id": "mPrPUvh-KbxM"
      }
    },
    {
      "cell_type": "markdown",
      "source": [
        "<font color='56c3ea'><h1><b>4.5 Cleaning movie title<b></h1></font>"
      ],
      "metadata": {
        "id": "YOz_Cmez-5mN"
      }
    },
    {
      "cell_type": "markdown",
      "source": [
        "Movie title may contain special characters which are not needed by LLM for NLP taks. Removing everything and remaining with characters only will enhance input fed to LLM"
      ],
      "metadata": {
        "id": "vyK10UjX_Hk-"
      }
    },
    {
      "cell_type": "code",
      "source": [
        "# checking for titles\n",
        "IMDB_Movies_df['Title']"
      ],
      "metadata": {
        "id": "4dbFppnu_q5q",
        "outputId": "7cf9f5cd-7d83-4ac7-94ea-82ee4bb5b62a",
        "colab": {
          "base_uri": "https://localhost:8080/",
          "height": 458
        }
      },
      "execution_count": 31,
      "outputs": [
        {
          "output_type": "execute_result",
          "data": {
            "text/plain": [
              "0                   End of the Spear\n",
              "1                     Elvira Madigan\n",
              "2       The Kid Stays in the Picture\n",
              "3                      It Ain't Over\n",
              "4                             Mahler\n",
              "                    ...             \n",
              "3166           The Godfather Part II\n",
              "3167                    12 Angry Men\n",
              "3170                 The Dark Knight\n",
              "3171                   The Godfather\n",
              "3172        The Shawshank Redemption\n",
              "Name: Title, Length: 2762, dtype: category\n",
              "Categories (2739, object): ['0010: The Sharks Make Contact - Part 2', '1 and 0 nly', '1, 2, 3, Whiteout', '1.7 Alpha', ...,\n",
              "                            'e-Virus', 'tick, tick... BOOM!', 'Älgigen', 'Örümcek Adam']"
            ],
            "text/html": [
              "<div>\n",
              "<style scoped>\n",
              "    .dataframe tbody tr th:only-of-type {\n",
              "        vertical-align: middle;\n",
              "    }\n",
              "\n",
              "    .dataframe tbody tr th {\n",
              "        vertical-align: top;\n",
              "    }\n",
              "\n",
              "    .dataframe thead th {\n",
              "        text-align: right;\n",
              "    }\n",
              "</style>\n",
              "<table border=\"1\" class=\"dataframe\">\n",
              "  <thead>\n",
              "    <tr style=\"text-align: right;\">\n",
              "      <th></th>\n",
              "      <th>Title</th>\n",
              "    </tr>\n",
              "  </thead>\n",
              "  <tbody>\n",
              "    <tr>\n",
              "      <th>0</th>\n",
              "      <td>End of the Spear</td>\n",
              "    </tr>\n",
              "    <tr>\n",
              "      <th>1</th>\n",
              "      <td>Elvira Madigan</td>\n",
              "    </tr>\n",
              "    <tr>\n",
              "      <th>2</th>\n",
              "      <td>The Kid Stays in the Picture</td>\n",
              "    </tr>\n",
              "    <tr>\n",
              "      <th>3</th>\n",
              "      <td>It Ain't Over</td>\n",
              "    </tr>\n",
              "    <tr>\n",
              "      <th>4</th>\n",
              "      <td>Mahler</td>\n",
              "    </tr>\n",
              "    <tr>\n",
              "      <th>...</th>\n",
              "      <td>...</td>\n",
              "    </tr>\n",
              "    <tr>\n",
              "      <th>3166</th>\n",
              "      <td>The Godfather Part II</td>\n",
              "    </tr>\n",
              "    <tr>\n",
              "      <th>3167</th>\n",
              "      <td>12 Angry Men</td>\n",
              "    </tr>\n",
              "    <tr>\n",
              "      <th>3170</th>\n",
              "      <td>The Dark Knight</td>\n",
              "    </tr>\n",
              "    <tr>\n",
              "      <th>3171</th>\n",
              "      <td>The Godfather</td>\n",
              "    </tr>\n",
              "    <tr>\n",
              "      <th>3172</th>\n",
              "      <td>The Shawshank Redemption</td>\n",
              "    </tr>\n",
              "  </tbody>\n",
              "</table>\n",
              "<p>2762 rows × 1 columns</p>\n",
              "</div><br><label><b>dtype:</b> category</label>"
            ]
          },
          "metadata": {},
          "execution_count": 31
        }
      ]
    },
    {
      "cell_type": "code",
      "source": [
        "# fiter everything matching characters and speces\n",
        "\n",
        "IMDB_Movies_df['Title'] = IMDB_Movies_df['Title'].astype(str).str.replace(r\"[^a-zA-Z ]\", \"\", regex=True)"
      ],
      "metadata": {
        "id": "y1PYFY7H_-eM"
      },
      "execution_count": null,
      "outputs": []
    },
    {
      "cell_type": "code",
      "source": [
        "IMDB_Movies_df['Title']"
      ],
      "metadata": {
        "id": "Uu-0hT3IBR2d",
        "outputId": "12f7ed3d-8068-410a-e968-f9aea06b60a1",
        "colab": {
          "base_uri": "https://localhost:8080/",
          "height": 458
        }
      },
      "execution_count": 33,
      "outputs": [
        {
          "output_type": "execute_result",
          "data": {
            "text/plain": [
              "0                   End of the Spear\n",
              "1                     Elvira Madigan\n",
              "2       The Kid Stays in the Picture\n",
              "3                       It Aint Over\n",
              "4                             Mahler\n",
              "                    ...             \n",
              "3166           The Godfather Part II\n",
              "3167                       Angry Men\n",
              "3170                 The Dark Knight\n",
              "3171                   The Godfather\n",
              "3172        The Shawshank Redemption\n",
              "Name: Title, Length: 2762, dtype: object"
            ],
            "text/html": [
              "<div>\n",
              "<style scoped>\n",
              "    .dataframe tbody tr th:only-of-type {\n",
              "        vertical-align: middle;\n",
              "    }\n",
              "\n",
              "    .dataframe tbody tr th {\n",
              "        vertical-align: top;\n",
              "    }\n",
              "\n",
              "    .dataframe thead th {\n",
              "        text-align: right;\n",
              "    }\n",
              "</style>\n",
              "<table border=\"1\" class=\"dataframe\">\n",
              "  <thead>\n",
              "    <tr style=\"text-align: right;\">\n",
              "      <th></th>\n",
              "      <th>Title</th>\n",
              "    </tr>\n",
              "  </thead>\n",
              "  <tbody>\n",
              "    <tr>\n",
              "      <th>0</th>\n",
              "      <td>End of the Spear</td>\n",
              "    </tr>\n",
              "    <tr>\n",
              "      <th>1</th>\n",
              "      <td>Elvira Madigan</td>\n",
              "    </tr>\n",
              "    <tr>\n",
              "      <th>2</th>\n",
              "      <td>The Kid Stays in the Picture</td>\n",
              "    </tr>\n",
              "    <tr>\n",
              "      <th>3</th>\n",
              "      <td>It Aint Over</td>\n",
              "    </tr>\n",
              "    <tr>\n",
              "      <th>4</th>\n",
              "      <td>Mahler</td>\n",
              "    </tr>\n",
              "    <tr>\n",
              "      <th>...</th>\n",
              "      <td>...</td>\n",
              "    </tr>\n",
              "    <tr>\n",
              "      <th>3166</th>\n",
              "      <td>The Godfather Part II</td>\n",
              "    </tr>\n",
              "    <tr>\n",
              "      <th>3167</th>\n",
              "      <td>Angry Men</td>\n",
              "    </tr>\n",
              "    <tr>\n",
              "      <th>3170</th>\n",
              "      <td>The Dark Knight</td>\n",
              "    </tr>\n",
              "    <tr>\n",
              "      <th>3171</th>\n",
              "      <td>The Godfather</td>\n",
              "    </tr>\n",
              "    <tr>\n",
              "      <th>3172</th>\n",
              "      <td>The Shawshank Redemption</td>\n",
              "    </tr>\n",
              "  </tbody>\n",
              "</table>\n",
              "<p>2762 rows × 1 columns</p>\n",
              "</div><br><label><b>dtype:</b> object</label>"
            ]
          },
          "metadata": {},
          "execution_count": 33
        }
      ]
    },
    {
      "cell_type": "markdown",
      "source": [
        "<font color='56c3ea'><h1><b>4.6 Constructing Text Data<b></h1></font>"
      ],
      "metadata": {
        "id": "1Z6EAqdOInBC"
      }
    },
    {
      "cell_type": "markdown",
      "source": [
        "Its useful to use all details from 'Title', 'IMDb Rating', 'Year', 'Certificates', 'Genre', 'Director', 'Star Cast', 'MetaScore'and 'Duration (minutes) so that we can provide detailed context to the models to have a deep understanding of the movie to provide a good interactive experience to the users."
      ],
      "metadata": {
        "id": "PeiwO6HcrEbs"
      }
    },
    {
      "cell_type": "code",
      "source": [
        "column_list = IMDB_Movies_df.columns.to_list()\n",
        "print(f'List of columns : {column_list}')"
      ],
      "metadata": {
        "id": "px04bRrAVo5Q"
      },
      "execution_count": null,
      "outputs": []
    },
    {
      "cell_type": "code",
      "source": [
        "# Function to check if column is valid(Not a number or its not missing)\n",
        "def check_column_validity(movie_row):\n",
        "  # initialize empty movie\n",
        "  try:\n",
        "    movie = \"\"\n",
        "    for column_name in column_list:\n",
        "      # Extracting column content\n",
        "      column_content = row[1][column_name]\n",
        "      # Check validity\n",
        "      if not isinstance(column_content, (int, float)) or not np.isnan(column_content):\n",
        "        movie += f\"{column_name}: {column_content}\\n\"\n",
        "    return movie\n",
        "\n",
        "  except KeyError as e:\n",
        "    return {\"error\": f\"KeyError: Column '{e}' not found in movie_row\"}\n",
        "  except TypeError as e:\n",
        "    return {\"error\": f\"TypeError: {e}\"}\n",
        "  except Exception as e:\n",
        "    return {\"error\": f\"An unexpected error occurred: {e}\"}"
      ],
      "metadata": {
        "id": "gIP0tY-NXMpX"
      },
      "execution_count": 86,
      "outputs": []
    },
    {
      "cell_type": "code",
      "source": [
        "# Text data\n",
        "# Empty lists to save product descriptions and their lengths\n",
        "\n",
        "movie_descriptions = []\n",
        "movie_descriptions_len = []\n",
        "\n",
        "# Going through each row in a dataframe\n",
        "for row in IMDB_Movies_df.iterrows():\n",
        "  # print(check_column_validity(row))\n",
        "  movie = check_column_validity(row)\n",
        "\n",
        "  movie = movie.strip() # Remove any leading/trailing whitespace\n",
        "  movie_descriptions.append(movie) # Add the formatted product details to the list\n",
        "  movie_descriptions_len.append(len(movie)) # Storing length of product description"
      ],
      "metadata": {
        "id": "uIq9G4FwVo63"
      },
      "execution_count": 87,
      "outputs": []
    },
    {
      "cell_type": "code",
      "source": [
        "# Checking number of movies\n",
        "print(f'Number of movies {len(movie_descriptions)}')"
      ],
      "metadata": {
        "id": "1KqrxBfYVo8s",
        "colab": {
          "base_uri": "https://localhost:8080/"
        },
        "outputId": "f3c1776d-263c-4149-8192-5a8e478830ac"
      },
      "execution_count": 88,
      "outputs": [
        {
          "output_type": "stream",
          "name": "stdout",
          "text": [
            "Number of movies 2762\n"
          ]
        }
      ]
    },
    {
      "cell_type": "code",
      "source": [
        "# Checking a sample movie\n",
        "print(movie_descriptions[-1])"
      ],
      "metadata": {
        "id": "6KeVk3D3Vo_x"
      },
      "execution_count": null,
      "outputs": []
    },
    {
      "cell_type": "code",
      "source": [
        "print(movie_descriptions)"
      ],
      "metadata": {
        "id": "K4i49zimhex2"
      },
      "execution_count": null,
      "outputs": []
    },
    {
      "cell_type": "markdown",
      "source": [
        "<font color='56c3ea'><h1><b>4.7 Vectorizing Text<b></h1></font>"
      ],
      "metadata": {
        "id": "gpsbxcLfInDk"
      }
    },
    {
      "cell_type": "code",
      "source": [
        "# Splitting movie descriptions into chunks using Recursive character chunking\n",
        "\n",
        "text_splitter = RecursiveCharacterTextSplitter(\n",
        "    chunk_size=250,\n",
        "    chunk_overlap=20,\n",
        "    length_function=len,\n",
        "    is_separator_regex=False,\n",
        ")\n",
        "\n",
        "movie_documents = text_splitter.create_documents(movie_descriptions)"
      ],
      "metadata": {
        "id": "VZ7i6qGqrJPZ"
      },
      "execution_count": 40,
      "outputs": []
    },
    {
      "cell_type": "code",
      "execution_count": null,
      "metadata": {
        "id": "nKBjz45zDj6r"
      },
      "outputs": [],
      "source": [
        "# Store your OpenAI API key\n",
        "OPENAI_API_KEY = getpass.getpass(\"Enter your open API key\")"
      ]
    },
    {
      "cell_type": "code",
      "source": [
        "# Converting chunks/movie documents into embedding and keep them in a vector store\n",
        "embeddings = OpenAIEmbeddings(openai_api_key=OPENAI_API_KEY)\n",
        "\n",
        "# Create a vector store using the created chunks and the embeddings model\n",
        "vector = FAISS.from_documents(movie_documents, embeddings)"
      ],
      "metadata": {
        "id": "8dRxTHMXsV5M"
      },
      "execution_count": 42,
      "outputs": []
    },
    {
      "cell_type": "markdown",
      "source": [
        "<font color='56c3ea'><h1><b>5 Model Implementation<b></h1></font>"
      ],
      "metadata": {
        "id": "KjlxZ97VInGC"
      }
    },
    {
      "cell_type": "markdown",
      "source": [
        "<font color='56c3ea'><h1><b>5.1 Using GPT API for chatbot interactions<b></h1></font>"
      ],
      "metadata": {
        "id": "ts5enLV6yM6T"
      }
    },
    {
      "cell_type": "code",
      "source": [
        "# Initializing the ChatOpenAI model to interact with OpenAI's GPT model.\n",
        "llm = ChatOpenAI(api_key=OPENAI_API_KEY, model = 'gpt-4o-mini')"
      ],
      "metadata": {
        "id": "Ms9PECkbwjqa"
      },
      "execution_count": 43,
      "outputs": []
    },
    {
      "cell_type": "code",
      "source": [
        "# Importing the output parser to process and format the model's response into a readable string format.\n",
        "output_parser = StrOutputParser()\n",
        "\n",
        "# Creating a prompt template that instructs the AI to act as a customer service agent.\n",
        "prompt = ChatPromptTemplate.from_template(\n",
        "    \"\"\"Answer the following question based only on the provided context:\n",
        "\n",
        "    Be strict if the user input is not about movies , reply with\n",
        "\n",
        "    \"This chatbot only answers question about the movies , for non movie questions\n",
        "    please use other search engines\"\n",
        "\n",
        "    <context>\n",
        "    {context}\n",
        "    </context>\n",
        "\n",
        "    Question: {input}\"\"\",\n",
        "    output_parser=output_parser  # The output parser ensures that the response is returned in a structured string format.\n",
        ")\n",
        "\n",
        "# Creating a document processing chain using the LLM and the defined prompt template.\n",
        "document_chain = prompt | llm"
      ],
      "metadata": {
        "id": "40QWCXZFwj0Y"
      },
      "execution_count": 93,
      "outputs": []
    },
    {
      "cell_type": "markdown",
      "source": [
        "<font color='56c3ea'><h1><b>5.2 Retrieving movie details efficiently with FAISS/Vector Search.<b></h1></font>"
      ],
      "metadata": {
        "id": "EMmbQQ1aInIt"
      }
    },
    {
      "cell_type": "code",
      "source": [
        "# Create a retriever from the vector store for fetching relevant documents created earlier\n",
        "retriever = vector.as_retriever()\n",
        "\n",
        "# Create a retrieval chain that first retrieves relevant documents and then processes them using the document chain\n",
        "retrieval_chain = create_retrieval_chain(retriever, document_chain)"
      ],
      "metadata": {
        "id": "E-CADQMIwkJm"
      },
      "execution_count": 94,
      "outputs": []
    },
    {
      "cell_type": "code",
      "source": [
        "# # Invoking the retrieval chain to test retrieving movie details.\n",
        "retrieval_chain.invoke({\"input\": \"who are the top actors?\"})"
      ],
      "metadata": {
        "id": "IFotJqBXy5yu"
      },
      "execution_count": null,
      "outputs": []
    },
    {
      "cell_type": "markdown",
      "source": [
        "<font color='56c3ea'><h1><b>6 Chatbot Interface<b></h1></font>"
      ],
      "metadata": {
        "id": "G0-ilSO5InLR"
      }
    },
    {
      "cell_type": "markdown",
      "source": [
        "<font color='56c3ea'><h1><b>6.1 Formatting response<b></h1></font>"
      ],
      "metadata": {
        "id": "c0KWcNeeInOA"
      }
    },
    {
      "cell_type": "code",
      "source": [
        "# Creating an instance of the OpenAI client using the provided API key\n",
        "openai_client = OpenAI(api_key=OPENAI_API_KEY)\n",
        "\n",
        "# Function to process the user query return the response in a readable format using LLM client\n",
        "def imdb_movie_dataset_search_final_response(user_query):\n",
        "  try:\n",
        "    # Invoking the retrieval chain with the user's query to fetch relevant product information\n",
        "    response = retrieval_chain.invoke({\"input\": user_query})['answer']\n",
        "\n",
        "    # Creating a prompt to instruct the AI to format the response properly\n",
        "    prompt = f\"\"\"\n",
        "    Format the responses properly in {response} .Just return the movie related\n",
        "    details in a human readable format(bulet points , well structured sentences or\n",
        "    paragraphs only ) only texts no other characters.\n",
        "\n",
        "    example output 1:\n",
        "\n",
        "    - The movie with the highest IMDb rating is Inglourious Basterds.\n",
        "    - Its current IMDb rating is 8.4.\n",
        "\n",
        "    example output 2:\n",
        "\n",
        "    1. Why We Fight (2005)\n",
        "      - IMDb Rating: 8.0\n",
        "      - This documentary, directed by Eugene Jarecki, addresses the military-industrial complex and its implications on society. Its strong rating\n",
        "\n",
        "    \"\"\"\n",
        "\n",
        "    # Sending the formatted prompt to the GPT-4o-mini model for processing\n",
        "    # openai_response = client.chat.completions.create(\n",
        "    openai_response = openai_client.chat.completions.create(\n",
        "        model='gpt-4o-mini',  # Using GPT-4o-mini model for response generation\n",
        "        messages=[{'role': 'user', 'content': prompt}]  # Providing the prompt to the model\n",
        "    )\n",
        "\n",
        "    # Extracting and returning the AI-generated response\n",
        "    return openai_response.choices[0].message.content\n",
        "\n",
        "  except KeyError as e:\n",
        "      return {\"error\": f\"KeyError: Answer '{e}' not found in retrieved results'\"}\n",
        "  except openai.error.OpenAIError as e:\n",
        "      return {\"error\": f\"OpenAI API error: {e}\"}\n",
        "  except requests.exceptions.RequestException as e:  # For timeout or connection errors\n",
        "      return {\"error\": f\"Network error: {e}\"}\n",
        "  except Exception as e:\n",
        "      return {\"error\": f\"An unexpected error occurred: {e}\"}"
      ],
      "metadata": {
        "id": "kBwhWUc9Mr1n"
      },
      "execution_count": 91,
      "outputs": []
    },
    {
      "cell_type": "code",
      "source": [
        "# Invoking the retrieval chain to test retrieving movie details.\n",
        "print(imdb_movie_dataset_search_final_response(\"What's the movie with highest IMDB rating?\"))"
      ],
      "metadata": {
        "id": "XN3n8sOdMsOx"
      },
      "execution_count": null,
      "outputs": []
    },
    {
      "cell_type": "code",
      "source": [
        "# Invoking the retrieval chain to test retrieving movie details.\n",
        "print(imdb_movie_dataset_search_final_response(\"What are some of the best movie and why?\"))"
      ],
      "metadata": {
        "id": "31Hsz-clbKdm"
      },
      "execution_count": null,
      "outputs": []
    },
    {
      "cell_type": "markdown",
      "source": [
        "<font color='56c3ea'><h1><b>6.2 Interactive UI (Gradio) for users to input queries<b></h1></font>"
      ],
      "metadata": {
        "id": "l8MzRasvInQb"
      }
    },
    {
      "cell_type": "code",
      "source": [
        "# Creating the Gradio interface for the product recommendation system\n",
        "app = gr.Interface(\n",
        "    fn=imdb_movie_dataset_search_final_response,        # The function that processes user input and returns recommendations\n",
        "    inputs=\"text\",            # Input component: a text box for users to enter their query\n",
        "    outputs=\"text\",           # Output component: a text box to display the AI-generated response\n",
        "    title=\"IMBD Movie Chatbot\",     # The title of the web interface\n",
        "    description=\"Type your question below to get the recommendations\",\n",
        "    theme=\"Ocean\",\n",
        "    allow_flagging=\"never\"    # Disabling the flagging feature to remove the \"Flag\" button\n",
        ")\n",
        "\n",
        "# Launching the Gradio app to start the interface and make it accessible via web browser\n",
        "app.launch()"
      ],
      "metadata": {
        "id": "BhtX6pPieZlj"
      },
      "execution_count": null,
      "outputs": []
    },
    {
      "cell_type": "markdown",
      "source": [
        "<font color='56c3ea'><h1><b>7 Evaluation & Future Work<b></h1></font>"
      ],
      "metadata": {
        "id": "Z5LnSdeQInTC"
      }
    },
    {
      "cell_type": "markdown",
      "source": [
        "<font color='56c3ea'><h1><b>7.1 Performance analysis<b></h1></font>"
      ],
      "metadata": {
        "id": "MqGoKz_IInV7"
      }
    },
    {
      "cell_type": "code",
      "source": [
        "# Setting up langsmith\n",
        "LANGSMITH_TRACING=True\n",
        "LANGSMITH_PROJECT=\"IMDB-movie-chatbot\""
      ],
      "metadata": {
        "id": "no_JdpWV7ML3"
      },
      "execution_count": 53,
      "outputs": []
    },
    {
      "cell_type": "code",
      "source": [
        "# Store your  langsmith API key\n",
        "LANGSMITH_API_KEY = getpass.getpass(\"Enter your Langsmith API key\")"
      ],
      "metadata": {
        "id": "PQczUP1S7MqX",
        "outputId": "235f9627-9120-4e17-d9e0-43f0ed65ef51",
        "colab": {
          "base_uri": "https://localhost:8080/"
        }
      },
      "execution_count": 54,
      "outputs": [
        {
          "name": "stdout",
          "output_type": "stream",
          "text": [
            "Enter your Langsmith API key··········\n"
          ]
        }
      ]
    },
    {
      "cell_type": "code",
      "source": [
        "# 1.Creating dataset\n",
        "# For test cases below code creates dataset(question and answers) of test cases\n",
        "# using client and upload them to langsmith using client\n",
        "\n",
        "langsmith_client = Client(api_key=LANGSMITH_API_KEY)\n",
        "\n",
        "# Define dataset: test cases\n",
        "dataset_name = \"IMDB Movie questions and answers\"\n",
        "dataset = langsmith_client.create_dataset(dataset_name)\n",
        "langsmith_client.create_examples(\n",
        "    dataset_id=dataset.id,\n",
        "    examples=[\n",
        "        {\n",
        "            \"inputs\": {\"question\": \"What's the movie with highest IMDB rating?\"},\n",
        "            \"outputs\": {\"answer\": \"The movie with the highest IMDb rating is Inglourious Basterds. - Its current IMDb rating is 8.4\"},\n",
        "        },\n",
        "                {\n",
        "            \"inputs\": {\"question\": \"What are the latest cars?\"},\n",
        "            \"outputs\": {\"answer\": \"This chatbot only answers questions about the movies, for non-movie questions please use other search engines.\"},\n",
        "        }\n",
        "    ]\n",
        ")"
      ],
      "metadata": {
        "id": "vZpYDvFf7NLX"
      },
      "execution_count": null,
      "outputs": []
    },
    {
      "cell_type": "code",
      "source": [
        "# 2.Defining metrics - correctness , short and concise\n",
        "# Using LLM as a judge to determine weather output is correct or not by calling\n",
        "# openai client\n",
        "\n",
        "import openai\n",
        "from langsmith import wrappers\n",
        "\n",
        "# openai_client = wrappers.wrap_openai(openai.OpenAI())\n",
        "\n",
        "eval_instructions = \"You are an expert professor specialized in grading customers' answers to movie questions.\"\n",
        "\n",
        "def correctness(inputs: dict, outputs: dict, reference_outputs: dict) -> bool:\n",
        "    user_content = f\"\"\"You are grading the following question:\n",
        "{inputs['question']}\n",
        "Here is the real answer:\n",
        "{reference_outputs['answer']}\n",
        "You are grading the following predicted answer:\n",
        "{outputs['response']}\n",
        "Respond with CORRECT or INCORRECT:\n",
        "Grade:\n",
        "\"\"\"\n",
        "    # response = openai_client.chat.completions.create(\n",
        "    response = openai_client.chat.completions.create(\n",
        "        model=\"gpt-4o-mini\",\n",
        "        temperature=0,\n",
        "        messages=[\n",
        "            {\"role\": \"system\", \"content\": eval_instructions},\n",
        "            {\"role\": \"user\", \"content\": user_content},\n",
        "        ],\n",
        "    ).choices[0].message.content\n",
        "    return response == \"CORRECT\""
      ],
      "metadata": {
        "id": "feguqlG-lhiw"
      },
      "execution_count": 57,
      "outputs": []
    },
    {
      "cell_type": "code",
      "source": [
        "# 3.Running Evaluations\n",
        "\n",
        "# this function return output from final response as a key value pair that client.evaluate\n",
        "# can understand\n",
        "def ls_target(inputs: str) -> dict:\n",
        "    return {\"response\": imdb_movie_dataset_search_final_response(inputs[\"question\"])}"
      ],
      "metadata": {
        "id": "VrLTP0aknGAB"
      },
      "execution_count": 58,
      "outputs": []
    },
    {
      "cell_type": "code",
      "source": [
        "# Evaluations\n",
        "experiment_results = langsmith_client.evaluate(\n",
        "    ls_target, # Chatbot's final response\n",
        "    data=dataset_name, # The data to predict and grade over\n",
        "    evaluators=[ correctness], # The evaluators to score the results\n",
        "    experiment_prefix=\"IMDB-Movie-Chatbot-Results\", # A prefix for your experiment names to easily identify them\n",
        ")"
      ],
      "metadata": {
        "id": "kCvI5pmGxn5l"
      },
      "execution_count": null,
      "outputs": []
    },
    {
      "cell_type": "markdown",
      "source": [
        "<font color='56c3ea'><h1><b>7.2 Agentic Architecture<b></h1></font>"
      ],
      "metadata": {
        "id": "aLo2VMhMInYi"
      }
    },
    {
      "cell_type": "code",
      "source": [
        "# Store your  Google Custom Search JSON API key\n",
        "Google_Custom_Search_JSON_API_key = getpass.getpass(\"Enter your Google Custom Search JSON API key\")"
      ],
      "metadata": {
        "id": "ge9s1YDVgBBA"
      },
      "execution_count": null,
      "outputs": []
    },
    {
      "cell_type": "code",
      "source": [
        "# Store your Google Custom Search ID\n",
        "google_CX_ID = getpass.getpass(\"Enter your Google Custom Search ID\")"
      ],
      "metadata": {
        "id": "9yw020fagpju"
      },
      "execution_count": null,
      "outputs": []
    },
    {
      "cell_type": "code",
      "source": [
        "\n",
        "# Function to process response to a readable format using LLM client\n",
        "def format_response(response):\n",
        "\n",
        "    # Creating a prompt to instruct the AI to format the response properly\n",
        "    prompt = f\"\"\"\n",
        "    Format the responses properly in {response} .Just return the movie related\n",
        "    details in a human readable format(bulet points , well structured sentences or\n",
        "    paragraphs only ) only texts no other characters.\n",
        "\n",
        "    example output 1:\n",
        "\n",
        "    - The movie with the highest IMDb rating is Inglourious Basterds.\n",
        "    - Its current IMDb rating is 8.4.\n",
        "\n",
        "    example output 2:\n",
        "\n",
        "    1. Why We Fight (2005)\n",
        "      - IMDb Rating: 8.0\n",
        "      - This documentary, directed by Eugene Jarecki, addresses the military-industrial complex and its implications on society. Its strong rating\n",
        "\n",
        "    example output 3:\n",
        "    The trending movies are\n",
        "    1.Antiman\n",
        "    2.Aquaman\n",
        "    3.Mission impossible\n",
        "\n",
        "    \"\"\"\n",
        "\n",
        "    # Sending the formatted prompt to the GPT-4o-mini model for processing\n",
        "    # openai_response = client.chat.completions.create(\n",
        "    openai_response = openai_client.chat.completions.create(\n",
        "        model='gpt-4o-mini',  # Using GPT-4o-mini model for response generation\n",
        "        messages=[{'role': 'user', 'content': prompt}]  # Providing the prompt to the model\n",
        "    )\n",
        "\n",
        "    # Extracting and returning the AI-generated response\n",
        "    return openai_response.choices[0].message.content"
      ],
      "metadata": {
        "id": "IBABu5Bt6bNK"
      },
      "execution_count": 62,
      "outputs": []
    },
    {
      "cell_type": "code",
      "source": [
        "# Define various agents - each performing a particular task using tool decorator\n",
        "# Tool for searching the internet for trending movies\n",
        "# Using Google Custom Search JSON API\n",
        "\n",
        "@tool\n",
        "def get_trending_movies(user_query=\"What are top 10 movies trending today in year 2025\") -> str:\n",
        "  \"\"\"Retrieves top 10 trending movies from the internet\"\"\"\n",
        "  # --- Configuration ---\n",
        "  query = user_query\n",
        "\n",
        "  # base URL for the Google Custom Search API\n",
        "  base_url = \"https://www.googleapis.com/customsearch/v1\"\n",
        "\n",
        "  # Parameters for the API request\n",
        "  # 'key': Your API Key\n",
        "  # 'cx': Your Search Engine ID\n",
        "  # 'q': Your search query\n",
        "  params = {\n",
        "      \"key\": Google_Custom_Search_JSON_API_key,\n",
        "      \"cx\": google_CX_ID,\n",
        "      \"q\": query,\n",
        "      \"num\": 1 # limiting results to 1 to get the best result\n",
        "  }\n",
        "\n",
        "  try:\n",
        "    # Send a GET request to the API\n",
        "    response = requests.get(base_url, params=params)\n",
        "\n",
        "    # Raise an exception if the request returned an HTTP error code (4xx or 5xx)\n",
        "    response.raise_for_status()\n",
        "\n",
        "    # --- Process the JSON Response ---\n",
        "    # Parse the JSON response from the API\n",
        "    search_results_data = response.json()\n",
        "\n",
        "    # Check if 'items' key exists in the response, which contains the search results\n",
        "    if 'items' in search_results_data and search_results_data['items']:\n",
        "        # Get the first search result item (since you're limiting to 1)\n",
        "        item = search_results_data['items'][0]\n",
        "        title = item.get('title')       # Get the title of the search result\n",
        "        link = item.get('link')         # Get the URL of the search result\n",
        "        snippet = item.get('snippet')   # Get the description snippet\n",
        "        display_link = item.get('displayLink') # Get the display URL\n",
        "\n",
        "        # Return the results\n",
        "        # return {\n",
        "        #       \"Title\": title,\n",
        "        #       \"Link\": link,\n",
        "        #       \"Display Link\": display_link,\n",
        "        #       \"Snippet\": snippet.strip()\n",
        "        #   }\n",
        "\n",
        "        # Extracting content from the link\n",
        "        bs_response = requests.get(link)\n",
        "        bs_response.raise_for_status() # raise an exception if HTTP error code\n",
        "\n",
        "        page_results = BeautifulSoup(bs_response.content , \"html.parser\")\n",
        "\n",
        "        text = format_response(page_results.get_text())\n",
        "\n",
        "        # print(f\"resp_text: {text}\")\n",
        "\n",
        "        return {\"top 10 movies\" : {text}} # This text will be sent to LLM\n",
        "\n",
        "    else:\n",
        "        return \"No results found for your query.\"\n",
        "\n",
        "  except requests.exceptions.HTTPError as http_err:\n",
        "      return f\"HTTP error occurred: {http_err}\"\n",
        "  except Exception as err:\n",
        "      return f\"An error occurred: {err}\""
      ],
      "metadata": {
        "id": "YE6rHMk1jLcM"
      },
      "execution_count": 67,
      "outputs": []
    },
    {
      "cell_type": "code",
      "source": [
        "# Tool to search movies from IMDB dataset provided\n",
        "@tool\n",
        "def IMDB_dataset_search_tool(user_query:str) -> str:\n",
        "  \"\"\"Search for movie details from the IMDB dataset with their details which include\n",
        "  Title,IMDb Rating,Year,Certificates,Genre,Director,Star Cast,MetaScore,Duration (minutes)\"\"\"\n",
        "\n",
        "  # Initializing the ChatOpenAI model to interact with OpenAI's GPT model.\n",
        "  llm = ChatOpenAI(api_key=OPENAI_API_KEY, model = 'gpt-4o-mini')\n",
        "\n",
        "  # Importing the output parser to process and format the model's response into a readable string format.\n",
        "  output_parser = StrOutputParser()\n",
        "\n",
        "  # Creating a prompt template\n",
        "  prompt = ChatPromptTemplate.from_template(\n",
        "      \"\"\"Answer the following question based only on the provided context:\n",
        "\n",
        "      Be strict if the user input is not about movies , reply with\n",
        "\n",
        "      \"This chatbot only answers question about the movies , for non movie questions\n",
        "      please use other search engines\"\n",
        "\n",
        "      <context>\n",
        "      {context}\n",
        "      </context>\n",
        "\n",
        "      Question: {input}\"\"\",\n",
        "      output_parser=output_parser  # The output parser ensures that the response is returned in a structured string format.\n",
        "  )\n",
        "\n",
        "  # Creating a document processing chain using the LLM and the defined prompt template.\n",
        "  document_chain = prompt | llm\n",
        "\n",
        "  # Create a retriever from the vector store for fetching relevant documents\n",
        "  # Vector is the vector store created earlier\n",
        "  retriever = vector.as_retriever()\n",
        "\n",
        "  # Create a retrieval chain that first retrieves relevant documents using FAISS and then processes them using the document chain\n",
        "  retrieval_chain = create_retrieval_chain(retriever, document_chain)\n",
        "\n",
        "  # Invoking the retrieval chain to test retrieving movie details.\n",
        "  query_results = format_response(retrieval_chain.invoke({\"input\": user_query}))\n",
        "\n",
        "  return query_results"
      ],
      "metadata": {
        "id": "t2kCrrV39gu2"
      },
      "execution_count": 68,
      "outputs": []
    },
    {
      "cell_type": "code",
      "source": [
        "# List of available tools\n",
        "tools = [get_trending_movies , IMDB_dataset_search_tool]\n",
        "\n",
        "# Render tool descriptions for AI understanding\n",
        "# rendered_tools = render_text_description(tools)"
      ],
      "metadata": {
        "id": "ebSk4iE2hzoN"
      },
      "execution_count": 69,
      "outputs": []
    },
    {
      "cell_type": "code",
      "source": [
        "from langgraph.graph import StateGraph, END\n",
        "from langchain.chat_models import ChatOpenAI\n",
        "from langchain.agents import Tool, initialize_agent\n",
        "from langchain.agents.agent_types import AgentType\n",
        "from typing import Dict, Any\n",
        "from pydantic import BaseModel\n",
        "\n",
        "# Initialize the agent\n",
        "llm = ChatOpenAI(\n",
        "    model=\"gpt-4o-mini\",\n",
        "    temperature=0,\n",
        "    openai_api_key=OPENAI_API_KEY\n",
        "    )\n",
        "agent = initialize_agent(tools, llm, agent=AgentType.ZERO_SHOT_REACT_DESCRIPTION)\n",
        "\n",
        "# Define the agent function\n",
        "def agent_node(state: Dict[str, Any]) -> Dict[str, Any]:\n",
        "    input_text = state.input\n",
        "    result = agent.run(input_text)\n",
        "    return {\"output\": result}\n",
        "\n",
        "# Build the graph\n",
        "# Specify input and output types for the state schema\n",
        "class InputSchema(BaseModel):\n",
        "    input: str\n",
        "\n",
        "class OutputSchema(BaseModel):\n",
        "    output: str\n",
        "\n",
        "graph = StateGraph(\n",
        "    input=InputSchema,\n",
        "    output=OutputSchema,\n",
        ")\n",
        "\n",
        "graph.add_node(\"agent\", agent_node)\n",
        "# Swap the following two lines:\n",
        "graph.set_entry_point(\"agent\")  # Start from the \"agent\" node\n",
        "graph.set_finish_point(\"agent\")  # Finish at the END node\n",
        "\n",
        "# Compile the graph\n",
        "imdb_movie_chatbot = graph.compile()\n",
        "\n",
        "# Run the graph with different inputs\n",
        "# input_texts = [\n",
        "#     \"what are the movie trends\"\n",
        "# ]\n",
        "\n",
        "# input_texts = [\n",
        "#     # \"what best movies from imdb and why\"\n",
        "#     \"what the movie with highest rating\"\n",
        "# ]\n",
        "\n",
        "input_texts = [\n",
        "    \"what are the movie trends\",\n",
        "    \"what the movie with highest rating\"\n",
        "]\n",
        "\n",
        "for text in input_texts:\n",
        "    result = imdb_movie_chatbot.invoke({\"input\": text})\n",
        "    print(f\"Input: {text}\\nOutput: {result['output']}\\n\")"
      ],
      "metadata": {
        "id": "_kS7as8SdPvM"
      },
      "execution_count": null,
      "outputs": []
    },
    {
      "cell_type": "code",
      "source": [
        "# Gradio function to call the chatbot\n",
        "def chat_interface(message, history):\n",
        "    result = imdb_movie_chatbot.invoke({\"input\": message})\n",
        "    return result[\"output\"]\n",
        "\n",
        "# Gradio chat interface\n",
        "chat_ui = gr.ChatInterface(fn=chat_interface, title=\"IMDB Movie Chatbot\")\n",
        "\n",
        "# Launch the interface\n",
        "chat_ui.launch()"
      ],
      "metadata": {
        "id": "bs1tN4uGjXpu"
      },
      "execution_count": null,
      "outputs": []
    }
  ],
  "metadata": {
    "colab": {
      "provenance": [],
      "machine_shape": "hm",
      "gpuType": "A100",
      "include_colab_link": true
    },
    "kernelspec": {
      "display_name": "Python 3",
      "name": "python3"
    },
    "language_info": {
      "name": "python"
    }
  },
  "nbformat": 4,
  "nbformat_minor": 0
}